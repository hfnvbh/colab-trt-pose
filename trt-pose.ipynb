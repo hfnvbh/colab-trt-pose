{
  "nbformat": 4,
  "nbformat_minor": 0,
  "metadata": {
    "colab": {
      "name": "Untitled1.ipynb",
      "provenance": [],
      "authorship_tag": "ABX9TyPH/L3hSccv/jyN1hJT5hVv",
      "include_colab_link": true
    },
    "kernelspec": {
      "name": "python3",
      "display_name": "Python 3"
    },
    "accelerator": "GPU"
  },
  "cells": [
    {
      "cell_type": "markdown",
      "metadata": {
        "id": "view-in-github",
        "colab_type": "text"
      },
      "source": [
        "<a href=\"https://colab.research.google.com/github/hfnvbh/colab-trt-pose/blob/master/trt-pose.ipynb\" target=\"_parent\"><img src=\"https://colab.research.google.com/assets/colab-badge.svg\" alt=\"Open In Colab\"/></a>"
      ]
    },
    {
      "cell_type": "code",
      "metadata": {
        "id": "jedBfjjF9OJu",
        "colab_type": "code",
        "outputId": "bec2f5a6-d01f-41f0-d878-95a7d3ab4fd8",
        "colab": {
          "base_uri": "https://localhost:8080/",
          "height": 1000
        }
      },
      "source": [
        "!wget -q https://www.dropbox.com/s/p0sfni1dzb359hk/nv-tensorrt-repo-ubuntu1804-cuda10.1-trt5.1.5.0-ga-20190427_1-1_amd64.deb\n",
        "!dpkg -i nv-tensorrt-repo-ubuntu1804-cuda10.1-trt5.1.5.0-ga-20190427_1-1_amd64.deb\n",
        "!apt-key add /var/nv-tensorrt-repo-cuda10.1-trt5.1.5.0-ga-20190427/7fa2af80.pub\n",
        "!apt-get install -y --no-install-recommends libnvinfer5=5.1.5-1+cuda10.1 libnvinfer-dev=5.1.5-1+cuda10.1\n",
        "!apt-get update\n",
        "!apt-get install tensorrt\n",
        "!apt-get install -y --no-install-recommends python3-libnvinfer=5.1.5-1+cuda10.1 python3-libnvinfer-dev=5.1.5-1+cuda10.1\n",
        "!dpkg -l | grep TensorRT"
      ],
      "execution_count": 1,
      "outputs": [
        {
          "output_type": "stream",
          "text": [
            "(Reading database ... \r(Reading database ... 5%\r(Reading database ... 10%\r(Reading database ... 15%\r(Reading database ... 20%\r(Reading database ... 25%\r(Reading database ... 30%\r(Reading database ... 35%\r(Reading database ... 40%\r(Reading database ... 45%\r(Reading database ... 50%\r(Reading database ... 55%\r(Reading database ... 60%\r(Reading database ... 65%\r(Reading database ... 70%\r(Reading database ... 75%\r(Reading database ... 80%\r(Reading database ... 85%\r(Reading database ... 90%\r(Reading database ... 95%\r(Reading database ... 100%\r(Reading database ... 159693 files and directories currently installed.)\n",
            "Preparing to unpack nv-tensorrt-repo-ubuntu1804-cuda10.1-trt5.1.5.0-ga-20190427_1-1_amd64.deb ...\n",
            "Unpacking nv-tensorrt-repo-ubuntu1804-cuda10.1-trt5.1.5.0-ga-20190427 (1-1) ...\n",
            "dpkg-deb (subprocess): cannot copy archive member from 'nv-tensorrt-repo-ubuntu1804-cuda10.1-trt5.1.5.0-ga-20190427_1-1_amd64.deb' to decompressor pipe: unexpected end of file or stream\n",
            "dpkg-deb (subprocess): decompressing archive member: lzma error: unexpected end of input\n",
            "dpkg-deb: error: <decompress> subprocess returned error exit status 2\n",
            "\u001b[1mdpkg:\u001b[0m error processing archive nv-tensorrt-repo-ubuntu1804-cuda10.1-trt5.1.5.0-ga-20190427_1-1_amd64.deb (--install):\n",
            " cannot copy extracted data for './var/nv-tensorrt-repo-cuda10.1-trt5.1.5.0-ga-20190427/libcudnn7_7.5.0.56-1+cuda10.1_amd64.deb' to '/var/nv-tensorrt-repo-cuda10.1-trt5.1.5.0-ga-20190427/libcudnn7_7.5.0.56-1+cuda10.1_amd64.deb.dpkg-new': unexpected end of file or stream\n",
            "Errors were encountered while processing:\n",
            " nv-tensorrt-repo-ubuntu1804-cuda10.1-trt5.1.5.0-ga-20190427_1-1_amd64.deb\n",
            "gpg: can't open '/var/nv-tensorrt-repo-cuda10.1-trt5.1.5.0-ga-20190427/7fa2af80.pub': No such file or directory\n",
            "Reading package lists... Done\n",
            "Building dependency tree       \n",
            "Reading state information... Done\n",
            "The following packages were automatically installed and are no longer required:\n",
            "  libnvinfer-doc libnvinfer-plugin7 libnvinfer7 libnvonnxparsers7\n",
            "  libnvparsers7 python3-libnvinfer\n",
            "Use 'apt autoremove' to remove them.\n",
            "The following packages will be REMOVED:\n",
            "  libnvinfer-bin libnvinfer-plugin-dev libnvinfer-samples libnvonnxparsers-dev\n",
            "  libnvparsers-dev python3-libnvinfer-dev tensorrt\n",
            "The following NEW packages will be installed:\n",
            "  libnvinfer5\n",
            "The following packages will be DOWNGRADED:\n",
            "  libnvinfer-dev\n",
            "0 upgraded, 1 newly installed, 1 downgraded, 7 to remove and 49 not upgraded.\n",
            "Need to get 94.3 MB of archives.\n",
            "After this operation, 529 MB disk space will be freed.\n",
            "Get:1 https://developer.download.nvidia.com/compute/machine-learning/repos/ubuntu1804/x86_64  libnvinfer5 5.1.5-1+cuda10.1 [46.7 MB]\n",
            "Get:2 https://developer.download.nvidia.com/compute/machine-learning/repos/ubuntu1804/x86_64  libnvinfer-dev 5.1.5-1+cuda10.1 [47.6 MB]\n",
            "Fetched 94.3 MB in 2s (60.7 MB/s)\n",
            "(Reading database ... 159693 files and directories currently installed.)\n",
            "Removing tensorrt (7.0.0.11-1+cuda10.2) ...\n",
            "Removing libnvinfer-bin (7.0.0-1+cuda10.2) ...\n",
            "Removing python3-libnvinfer-dev (7.0.0-1+cuda10.2) ...\n",
            "Removing libnvinfer-samples (7.0.0-1+cuda10.2) ...\n",
            "Removing libnvinfer-plugin-dev (7.0.0-1+cuda10.2) ...\n",
            "Removing libnvonnxparsers-dev (7.0.0-1+cuda10.2) ...\n",
            "Removing libnvparsers-dev (7.0.0-1+cuda10.2) ...\n",
            "Selecting previously unselected package libnvinfer5.\n",
            "(Reading database ... 159216 files and directories currently installed.)\n",
            "Preparing to unpack .../libnvinfer5_5.1.5-1+cuda10.1_amd64.deb ...\n",
            "Unpacking libnvinfer5 (5.1.5-1+cuda10.1) ...\n",
            "dpkg: warning: downgrading libnvinfer-dev from 7.0.0-1+cuda10.2 to 5.1.5-1+cuda10.1\n",
            "Preparing to unpack .../libnvinfer-dev_5.1.5-1+cuda10.1_amd64.deb ...\n",
            "Unpacking libnvinfer-dev (5.1.5-1+cuda10.1) over (7.0.0-1+cuda10.2) ...\n",
            "Setting up libnvinfer5 (5.1.5-1+cuda10.1) ...\n",
            "Setting up libnvinfer-dev (5.1.5-1+cuda10.1) ...\n",
            "Processing triggers for libc-bin (2.27-3ubuntu1) ...\n",
            "/sbin/ldconfig.real: /usr/local/lib/python3.6/dist-packages/ideep4py/lib/libmkldnn.so.0 is not a symbolic link\n",
            "\n",
            "Get:1 file:/var/cuda-repo-10-2-local-10.2.89-440.33.01  InRelease\n",
            "Ign:1 file:/var/cuda-repo-10-2-local-10.2.89-440.33.01  InRelease\n",
            "Get:2 file:/var/nv-tensorrt-repo-cuda10.2-trt7.0.0.11-ga-20191216  InRelease\n",
            "Ign:2 file:/var/nv-tensorrt-repo-cuda10.2-trt7.0.0.11-ga-20191216  InRelease\n",
            "Get:3 file:/var/cuda-repo-10-2-local-10.2.89-440.33.01  Release [574 B]\n",
            "Get:4 file:/var/nv-tensorrt-repo-cuda10.2-trt7.0.0.11-ga-20191216  Release [574 B]\n",
            "Get:3 file:/var/cuda-repo-10-2-local-10.2.89-440.33.01  Release [574 B]\n",
            "Get:5 http://security.ubuntu.com/ubuntu bionic-security InRelease [88.7 kB]\n",
            "Hit:6 http://ppa.launchpad.net/graphics-drivers/ppa/ubuntu bionic InRelease\n",
            "Get:4 file:/var/nv-tensorrt-repo-cuda10.2-trt7.0.0.11-ga-20191216  Release [574 B]\n",
            "Hit:7 http://archive.ubuntu.com/ubuntu bionic InRelease\n",
            "Get:8 http://ppa.launchpad.net/marutter/c2d4u3.5/ubuntu bionic InRelease [15.4 kB]\n",
            "Get:9 http://archive.ubuntu.com/ubuntu bionic-updates InRelease [88.7 kB]\n",
            "Hit:10 https://cloud.r-project.org/bin/linux/ubuntu bionic-cran35/ InRelease\n",
            "Get:11 http://archive.ubuntu.com/ubuntu bionic-backports InRelease [74.6 kB]\n",
            "Ign:13 https://developer.download.nvidia.com/compute/cuda/repos/ubuntu1804/x86_64  InRelease\n",
            "Ign:14 https://developer.download.nvidia.com/compute/machine-learning/repos/ubuntu1804/x86_64  InRelease\n",
            "Hit:15 https://developer.download.nvidia.com/compute/cuda/repos/ubuntu1804/x86_64  Release\n",
            "Hit:16 https://developer.download.nvidia.com/compute/machine-learning/repos/ubuntu1804/x86_64  Release\n",
            "Get:18 http://ppa.launchpad.net/marutter/c2d4u3.5/ubuntu bionic/main Sources [1,830 kB]\n",
            "Fetched 2,098 kB in 2s (1,223 kB/s)\n",
            "Reading package lists... Done\n",
            "Reading package lists... Done\n",
            "Building dependency tree       \n",
            "Reading state information... Done\n",
            "The following package was automatically installed and is no longer required:\n",
            "  python3-libnvinfer\n",
            "Use 'apt autoremove' to remove it.\n",
            "The following additional packages will be installed:\n",
            "  libnvinfer-bin libnvinfer-dev libnvinfer-plugin-dev libnvinfer-samples\n",
            "  libnvonnxparsers-dev libnvparsers-dev\n",
            "The following NEW packages will be installed:\n",
            "  libnvinfer-bin libnvinfer-plugin-dev libnvinfer-samples libnvonnxparsers-dev\n",
            "  libnvparsers-dev tensorrt\n",
            "The following packages will be upgraded:\n",
            "  libnvinfer-dev\n",
            "1 upgraded, 6 newly installed, 0 to remove and 49 not upgraded.\n",
            "Need to get 0 B/533 MB of archives.\n",
            "After this operation, 693 MB of additional disk space will be used.\n",
            "Get:1 file:/var/nv-tensorrt-repo-cuda10.2-trt7.0.0.11-ga-20191216  libnvinfer-dev 7.0.0-1+cuda10.2 [78.0 MB]\n",
            "Get:2 file:/var/nv-tensorrt-repo-cuda10.2-trt7.0.0.11-ga-20191216  libnvinfer-bin 7.0.0-1+cuda10.2 [94.7 kB]\n",
            "Get:3 file:/var/nv-tensorrt-repo-cuda10.2-trt7.0.0.11-ga-20191216  libnvinfer-plugin-dev 7.0.0-1+cuda10.2 [2,321 kB]\n",
            "Get:4 file:/var/nv-tensorrt-repo-cuda10.2-trt7.0.0.11-ga-20191216  libnvparsers-dev 7.0.0-1+cuda10.2 [541 kB]\n",
            "Get:5 file:/var/nv-tensorrt-repo-cuda10.2-trt7.0.0.11-ga-20191216  libnvonnxparsers-dev 7.0.0-1+cuda10.2 [295 kB]\n",
            "Get:6 file:/var/nv-tensorrt-repo-cuda10.2-trt7.0.0.11-ga-20191216  libnvinfer-samples 7.0.0-1+cuda10.2 [452 MB]\n",
            "Get:7 file:/var/nv-tensorrt-repo-cuda10.2-trt7.0.0.11-ga-20191216  tensorrt 7.0.0.11-1+cuda10.2 [3,652 B]\n",
            "(Reading database ... 159247 files and directories currently installed.)\n",
            "Preparing to unpack .../0-libnvinfer-dev_7.0.0-1+cuda10.2_amd64.deb ...\n",
            "Unpacking libnvinfer-dev (7.0.0-1+cuda10.2) over (5.1.5-1+cuda10.1) ...\n",
            "Selecting previously unselected package libnvinfer-bin.\n",
            "Preparing to unpack .../1-libnvinfer-bin_7.0.0-1+cuda10.2_amd64.deb ...\n",
            "Unpacking libnvinfer-bin (7.0.0-1+cuda10.2) ...\n",
            "Selecting previously unselected package libnvinfer-plugin-dev.\n",
            "Preparing to unpack .../2-libnvinfer-plugin-dev_7.0.0-1+cuda10.2_amd64.deb ...\n",
            "Unpacking libnvinfer-plugin-dev (7.0.0-1+cuda10.2) ...\n",
            "Selecting previously unselected package libnvparsers-dev.\n",
            "Preparing to unpack .../3-libnvparsers-dev_7.0.0-1+cuda10.2_amd64.deb ...\n",
            "Unpacking libnvparsers-dev (7.0.0-1+cuda10.2) ...\n",
            "Selecting previously unselected package libnvonnxparsers-dev.\n",
            "Preparing to unpack .../4-libnvonnxparsers-dev_7.0.0-1+cuda10.2_amd64.deb ...\n",
            "Unpacking libnvonnxparsers-dev (7.0.0-1+cuda10.2) ...\n",
            "Selecting previously unselected package libnvinfer-samples.\n",
            "Preparing to unpack .../5-libnvinfer-samples_7.0.0-1+cuda10.2_all.deb ...\n",
            "Unpacking libnvinfer-samples (7.0.0-1+cuda10.2) ...\n",
            "Selecting previously unselected package tensorrt.\n",
            "Preparing to unpack .../6-tensorrt_7.0.0.11-1+cuda10.2_amd64.deb ...\n",
            "Unpacking tensorrt (7.0.0.11-1+cuda10.2) ...\n",
            "Setting up libnvinfer-dev (7.0.0-1+cuda10.2) ...\n",
            "Setting up libnvinfer-bin (7.0.0-1+cuda10.2) ...\n",
            "Setting up libnvinfer-plugin-dev (7.0.0-1+cuda10.2) ...\n",
            "Setting up libnvparsers-dev (7.0.0-1+cuda10.2) ...\n",
            "Setting up libnvonnxparsers-dev (7.0.0-1+cuda10.2) ...\n",
            "Setting up libnvinfer-samples (7.0.0-1+cuda10.2) ...\n",
            "Setting up tensorrt (7.0.0.11-1+cuda10.2) ...\n",
            "Reading package lists... Done\n",
            "Building dependency tree       \n",
            "Reading state information... Done\n",
            "Some packages could not be installed. This may mean that you have\n",
            "requested an impossible situation or if you are using the unstable\n",
            "distribution that some required packages have not yet been created\n",
            "or been moved out of Incoming.\n",
            "The following information may help to resolve the situation:\n",
            "\n",
            "The following packages have unmet dependencies:\n",
            " python3-libnvinfer-dev : Depends: libnvinfer-dev (= 5.1.5-1+cuda10.1) but 7.0.0-1+cuda10.2 is to be installed\n",
            "E: Unable to correct problems, you have held broken packages.\n",
            "ii  libnvinfer-bin                                               7.0.0-1+cuda10.2                                  amd64        TensorRT binaries\n",
            "ii  libnvinfer-dev                                               7.0.0-1+cuda10.2                                  amd64        TensorRT development libraries and headers\n",
            "ii  libnvinfer-doc                                               7.0.0-1+cuda10.2                                  all          TensorRT documentation\n",
            "ii  libnvinfer-plugin-dev                                        7.0.0-1+cuda10.2                                  amd64        TensorRT plugin libraries\n",
            "ii  libnvinfer-plugin7                                           7.0.0-1+cuda10.2                                  amd64        TensorRT plugin libraries\n",
            "ii  libnvinfer-samples                                           7.0.0-1+cuda10.2                                  all          TensorRT samples\n",
            "ii  libnvinfer5                                                  5.1.5-1+cuda10.1                                  amd64        TensorRT runtime libraries\n",
            "ii  libnvinfer7                                                  7.0.0-1+cuda10.2                                  amd64        TensorRT runtime libraries\n",
            "ii  libnvonnxparsers-dev                                         7.0.0-1+cuda10.2                                  amd64        TensorRT ONNX libraries\n",
            "ii  libnvonnxparsers7                                            7.0.0-1+cuda10.2                                  amd64        TensorRT ONNX libraries\n",
            "ii  libnvparsers-dev                                             7.0.0-1+cuda10.2                                  amd64        TensorRT parsers libraries\n",
            "ii  libnvparsers7                                                7.0.0-1+cuda10.2                                  amd64        TensorRT parsers libraries\n",
            "ii  python3-libnvinfer                                           7.0.0-1+cuda10.2                                  amd64        Python 3 bindings for TensorRT\n",
            "ii  tensorrt                                                     7.0.0.11-1+cuda10.2                               amd64        Meta package of TensorRT\n"
          ],
          "name": "stdout"
        }
      ]
    },
    {
      "cell_type": "code",
      "metadata": {
        "id": "LsA0Bpjd9t9a",
        "colab_type": "code",
        "outputId": "be7e5e7b-65cc-4dfe-8031-405cbab70c43",
        "colab": {
          "base_uri": "https://localhost:8080/",
          "height": 85
        }
      },
      "source": [
        "!pip3 install tqdm cython pycocotools\n",
        "!apt-get install python3-matplotlib\n",
        "!git clone https://github.com/NVIDIA-AI-IOT/trt_pose\n",
        "!cd trt_pose && python3 setup.py install\n",
        "\n",
        "!git clone https://github.com/NVIDIA-AI-IOT/torch2trt\n",
        "!cd torch2trt && python setup.py install"
      ],
      "execution_count": 2,
      "outputs": [
        {
          "output_type": "stream",
          "text": [
            "nvcc: NVIDIA (R) Cuda compiler driver\n",
            "Copyright (c) 2005-2019 NVIDIA Corporation\n",
            "Built on Wed_Oct_23_19:24:38_PDT_2019\n",
            "Cuda compilation tools, release 10.2, V10.2.89\n"
          ],
          "name": "stdout"
        }
      ]
    },
    {
      "cell_type": "code",
      "metadata": {
        "id": "kiKx4zkmBymj",
        "colab_type": "code",
        "outputId": "036db741-f1ca-4b08-9072-728f1b265326",
        "colab": {
          "base_uri": "https://localhost:8080/",
          "height": 1000
        }
      },
      "source": [
        "!wget -q https://www.dropbox.com/s/r7ex76ofqsnjkjy/resnet18_baseline_att_224x224_A_epoch_249.pth"
      ],
      "execution_count": 3,
      "outputs": [
        {
          "output_type": "stream",
          "text": [
            "Selecting previously unselected package nv-tensorrt-repo-ubuntu1804-cuda10.2-trt7.0.0.11-ga-20191216.\n",
            "(Reading database ... \r(Reading database ... 5%\r(Reading database ... 10%\r(Reading database ... 15%\r(Reading database ... 20%\r(Reading database ... 25%\r(Reading database ... 30%\r(Reading database ... 35%\r(Reading database ... 40%\r(Reading database ... 45%\r(Reading database ... 50%\r(Reading database ... 55%\r(Reading database ... 60%\r(Reading database ... 65%\r(Reading database ... 70%\r(Reading database ... 75%\r(Reading database ... 80%\r(Reading database ... 85%\r(Reading database ... 90%\r(Reading database ... 95%\r(Reading database ... 100%\r(Reading database ... 156968 files and directories currently installed.)\n",
            "Preparing to unpack nv-tensorrt-repo-ubuntu1804-cuda10.2-trt7.0.0.11-ga-20191216_1-1_amd64.deb ...\n",
            "Unpacking nv-tensorrt-repo-ubuntu1804-cuda10.2-trt7.0.0.11-ga-20191216 (1-1) ...\n",
            "Setting up nv-tensorrt-repo-ubuntu1804-cuda10.2-trt7.0.0.11-ga-20191216 (1-1) ...\n",
            "OK\n",
            "Get:1 file:/var/cuda-repo-10-2-local-10.2.89-440.33.01  InRelease\n",
            "Ign:1 file:/var/cuda-repo-10-2-local-10.2.89-440.33.01  InRelease\n",
            "Get:2 file:/var/nv-tensorrt-repo-cuda10.2-trt7.0.0.11-ga-20191216  InRelease\n",
            "Ign:2 file:/var/nv-tensorrt-repo-cuda10.2-trt7.0.0.11-ga-20191216  InRelease\n",
            "Get:3 file:/var/cuda-repo-10-2-local-10.2.89-440.33.01  Release [574 B]\n",
            "Get:3 file:/var/cuda-repo-10-2-local-10.2.89-440.33.01  Release [574 B]\n",
            "Get:4 file:/var/nv-tensorrt-repo-cuda10.2-trt7.0.0.11-ga-20191216  Release [574 B]\n",
            "Get:4 file:/var/nv-tensorrt-repo-cuda10.2-trt7.0.0.11-ga-20191216  Release [574 B]\n",
            "Hit:5 http://archive.ubuntu.com/ubuntu bionic InRelease\n",
            "Get:6 file:/var/nv-tensorrt-repo-cuda10.2-trt7.0.0.11-ga-20191216  Release.gpg [836 B]\n",
            "Get:6 file:/var/nv-tensorrt-repo-cuda10.2-trt7.0.0.11-ga-20191216  Release.gpg [836 B]\n",
            "Hit:7 http://ppa.launchpad.net/graphics-drivers/ppa/ubuntu bionic InRelease\n",
            "Hit:8 http://archive.ubuntu.com/ubuntu bionic-updates InRelease\n",
            "Hit:9 http://archive.ubuntu.com/ubuntu bionic-backports InRelease\n",
            "Hit:10 http://ppa.launchpad.net/marutter/c2d4u3.5/ubuntu bionic InRelease\n",
            "Hit:11 https://cloud.r-project.org/bin/linux/ubuntu bionic-cran35/ InRelease\n",
            "Hit:12 http://security.ubuntu.com/ubuntu bionic-security InRelease\n",
            "Ign:14 https://developer.download.nvidia.com/compute/cuda/repos/ubuntu1804/x86_64  InRelease\n",
            "Ign:15 https://developer.download.nvidia.com/compute/machine-learning/repos/ubuntu1804/x86_64  InRelease\n",
            "Hit:16 https://developer.download.nvidia.com/compute/cuda/repos/ubuntu1804/x86_64  Release\n",
            "Hit:17 https://developer.download.nvidia.com/compute/machine-learning/repos/ubuntu1804/x86_64  Release\n",
            "Get:18 file:/var/nv-tensorrt-repo-cuda10.2-trt7.0.0.11-ga-20191216  Packages [4,765 B]\n",
            "Reading package lists... Done\n",
            "Reading package lists... Done\n",
            "Building dependency tree       \n",
            "Reading state information... Done\n",
            "The following additional packages will be installed:\n",
            "  libnvinfer-bin libnvinfer-dev libnvinfer-doc libnvinfer-plugin-dev\n",
            "  libnvinfer-plugin7 libnvinfer-samples libnvinfer7 libnvonnxparsers-dev\n",
            "  libnvonnxparsers7 libnvparsers-dev libnvparsers7\n",
            "The following NEW packages will be installed:\n",
            "  libnvinfer-bin libnvinfer-dev libnvinfer-doc libnvinfer-plugin-dev\n",
            "  libnvinfer-plugin7 libnvinfer-samples libnvinfer7 libnvonnxparsers-dev\n",
            "  libnvonnxparsers7 libnvparsers-dev libnvparsers7 tensorrt\n",
            "0 upgraded, 12 newly installed, 0 to remove and 62 not upgraded.\n",
            "Need to get 0 B/623 MB of archives.\n",
            "After this operation, 1,166 MB of additional disk space will be used.\n",
            "Get:1 file:/var/nv-tensorrt-repo-cuda10.2-trt7.0.0.11-ga-20191216  libnvinfer7 7.0.0-1+cuda10.2 [77.2 MB]\n",
            "Get:2 file:/var/nv-tensorrt-repo-cuda10.2-trt7.0.0.11-ga-20191216  libnvinfer-plugin7 7.0.0-1+cuda10.2 [2,250 kB]\n",
            "Get:3 file:/var/nv-tensorrt-repo-cuda10.2-trt7.0.0.11-ga-20191216  libnvparsers7 7.0.0-1+cuda10.2 [791 kB]\n",
            "Get:4 file:/var/nv-tensorrt-repo-cuda10.2-trt7.0.0.11-ga-20191216  libnvonnxparsers7 7.0.0-1+cuda10.2 [593 kB]\n",
            "Get:5 file:/var/nv-tensorrt-repo-cuda10.2-trt7.0.0.11-ga-20191216  libnvinfer-bin 7.0.0-1+cuda10.2 [94.7 kB]\n",
            "Get:6 file:/var/nv-tensorrt-repo-cuda10.2-trt7.0.0.11-ga-20191216  libnvinfer-dev 7.0.0-1+cuda10.2 [78.0 MB]\n",
            "Get:7 file:/var/nv-tensorrt-repo-cuda10.2-trt7.0.0.11-ga-20191216  libnvinfer-doc 7.0.0-1+cuda10.2 [9,718 kB]\n",
            "Get:8 file:/var/nv-tensorrt-repo-cuda10.2-trt7.0.0.11-ga-20191216  libnvinfer-plugin-dev 7.0.0-1+cuda10.2 [2,321 kB]\n",
            "Get:9 file:/var/nv-tensorrt-repo-cuda10.2-trt7.0.0.11-ga-20191216  libnvparsers-dev 7.0.0-1+cuda10.2 [541 kB]\n",
            "Get:10 file:/var/nv-tensorrt-repo-cuda10.2-trt7.0.0.11-ga-20191216  libnvonnxparsers-dev 7.0.0-1+cuda10.2 [295 kB]\n",
            "Get:11 file:/var/nv-tensorrt-repo-cuda10.2-trt7.0.0.11-ga-20191216  libnvinfer-samples 7.0.0-1+cuda10.2 [452 MB]\n",
            "Get:12 file:/var/nv-tensorrt-repo-cuda10.2-trt7.0.0.11-ga-20191216  tensorrt 7.0.0.11-1+cuda10.2 [3,652 B]\n",
            "Selecting previously unselected package libnvinfer7.\n",
            "(Reading database ... 156996 files and directories currently installed.)\n",
            "Preparing to unpack .../00-libnvinfer7_7.0.0-1+cuda10.2_amd64.deb ...\n",
            "Unpacking libnvinfer7 (7.0.0-1+cuda10.2) ...\n",
            "Selecting previously unselected package libnvinfer-plugin7.\n",
            "Preparing to unpack .../01-libnvinfer-plugin7_7.0.0-1+cuda10.2_amd64.deb ...\n",
            "Unpacking libnvinfer-plugin7 (7.0.0-1+cuda10.2) ...\n",
            "Selecting previously unselected package libnvparsers7.\n",
            "Preparing to unpack .../02-libnvparsers7_7.0.0-1+cuda10.2_amd64.deb ...\n",
            "Unpacking libnvparsers7 (7.0.0-1+cuda10.2) ...\n",
            "Selecting previously unselected package libnvonnxparsers7.\n",
            "Preparing to unpack .../03-libnvonnxparsers7_7.0.0-1+cuda10.2_amd64.deb ...\n",
            "Unpacking libnvonnxparsers7 (7.0.0-1+cuda10.2) ...\n",
            "Selecting previously unselected package libnvinfer-bin.\n",
            "Preparing to unpack .../04-libnvinfer-bin_7.0.0-1+cuda10.2_amd64.deb ...\n",
            "Unpacking libnvinfer-bin (7.0.0-1+cuda10.2) ...\n",
            "Selecting previously unselected package libnvinfer-dev.\n",
            "Preparing to unpack .../05-libnvinfer-dev_7.0.0-1+cuda10.2_amd64.deb ...\n",
            "Unpacking libnvinfer-dev (7.0.0-1+cuda10.2) ...\n",
            "Selecting previously unselected package libnvinfer-doc.\n",
            "Preparing to unpack .../06-libnvinfer-doc_7.0.0-1+cuda10.2_all.deb ...\n",
            "Unpacking libnvinfer-doc (7.0.0-1+cuda10.2) ...\n",
            "Selecting previously unselected package libnvinfer-plugin-dev.\n",
            "Preparing to unpack .../07-libnvinfer-plugin-dev_7.0.0-1+cuda10.2_amd64.deb ...\n",
            "Unpacking libnvinfer-plugin-dev (7.0.0-1+cuda10.2) ...\n",
            "Selecting previously unselected package libnvparsers-dev.\n",
            "Preparing to unpack .../08-libnvparsers-dev_7.0.0-1+cuda10.2_amd64.deb ...\n",
            "Unpacking libnvparsers-dev (7.0.0-1+cuda10.2) ...\n",
            "Selecting previously unselected package libnvonnxparsers-dev.\n",
            "Preparing to unpack .../09-libnvonnxparsers-dev_7.0.0-1+cuda10.2_amd64.deb ...\n",
            "Unpacking libnvonnxparsers-dev (7.0.0-1+cuda10.2) ...\n",
            "Selecting previously unselected package libnvinfer-samples.\n",
            "Preparing to unpack .../10-libnvinfer-samples_7.0.0-1+cuda10.2_all.deb ...\n",
            "Unpacking libnvinfer-samples (7.0.0-1+cuda10.2) ...\n",
            "Selecting previously unselected package tensorrt.\n",
            "Preparing to unpack .../11-tensorrt_7.0.0.11-1+cuda10.2_amd64.deb ...\n",
            "Unpacking tensorrt (7.0.0.11-1+cuda10.2) ...\n",
            "Setting up libnvinfer7 (7.0.0-1+cuda10.2) ...\n",
            "Setting up libnvinfer-dev (7.0.0-1+cuda10.2) ...\n",
            "Setting up libnvinfer-plugin7 (7.0.0-1+cuda10.2) ...\n",
            "Setting up libnvparsers7 (7.0.0-1+cuda10.2) ...\n",
            "Setting up libnvonnxparsers7 (7.0.0-1+cuda10.2) ...\n",
            "Setting up libnvinfer-doc (7.0.0-1+cuda10.2) ...\n",
            "Setting up libnvinfer-bin (7.0.0-1+cuda10.2) ...\n",
            "Setting up libnvinfer-plugin-dev (7.0.0-1+cuda10.2) ...\n",
            "Setting up libnvparsers-dev (7.0.0-1+cuda10.2) ...\n",
            "Setting up libnvonnxparsers-dev (7.0.0-1+cuda10.2) ...\n",
            "Setting up libnvinfer-samples (7.0.0-1+cuda10.2) ...\n",
            "Setting up tensorrt (7.0.0.11-1+cuda10.2) ...\n",
            "Processing triggers for libc-bin (2.27-3ubuntu1) ...\n",
            "/sbin/ldconfig.real: /usr/local/lib/python3.6/dist-packages/ideep4py/lib/libmkldnn.so.0 is not a symbolic link\n",
            "\n"
          ],
          "name": "stdout"
        }
      ]
    },
    {
      "cell_type": "code",
      "metadata": {
        "id": "TC29gADIDeH5",
        "colab_type": "code",
        "outputId": "0059660c-d359-4410-b069-90566783d4b4",
        "colab": {
          "base_uri": "https://localhost:8080/",
          "height": 241
        }
      },
      "source": [
        "!cp trt_pose/tasks/human_pose/human_pose.json ."
      ],
      "execution_count": 4,
      "outputs": [
        {
          "output_type": "stream",
          "text": [
            "ii  libnvinfer-bin                                               7.0.0-1+cuda10.2                                  amd64        TensorRT binaries\n",
            "ii  libnvinfer-dev                                               7.0.0-1+cuda10.2                                  amd64        TensorRT development libraries and headers\n",
            "ii  libnvinfer-doc                                               7.0.0-1+cuda10.2                                  all          TensorRT documentation\n",
            "ii  libnvinfer-plugin-dev                                        7.0.0-1+cuda10.2                                  amd64        TensorRT plugin libraries\n",
            "ii  libnvinfer-plugin7                                           7.0.0-1+cuda10.2                                  amd64        TensorRT plugin libraries\n",
            "ii  libnvinfer-samples                                           7.0.0-1+cuda10.2                                  all          TensorRT samples\n",
            "ii  libnvinfer7                                                  7.0.0-1+cuda10.2                                  amd64        TensorRT runtime libraries\n",
            "ii  libnvonnxparsers-dev                                         7.0.0-1+cuda10.2                                  amd64        TensorRT ONNX libraries\n",
            "ii  libnvonnxparsers7                                            7.0.0-1+cuda10.2                                  amd64        TensorRT ONNX libraries\n",
            "ii  libnvparsers-dev                                             7.0.0-1+cuda10.2                                  amd64        TensorRT parsers libraries\n",
            "ii  libnvparsers7                                                7.0.0-1+cuda10.2                                  amd64        TensorRT parsers libraries\n",
            "ii  tensorrt                                                     7.0.0.11-1+cuda10.2                               amd64        Meta package of TensorRT\n"
          ],
          "name": "stdout"
        }
      ]
    },
    {
      "cell_type": "code",
      "metadata": {
        "id": "qAUz6TacEr6M",
        "colab_type": "code",
        "colab": {
          "base_uri": "https://localhost:8080/",
          "height": 156
        },
        "outputId": "d5408cd0-0eff-46a3-b97b-1ee210f8f6d7"
      },
      "source": [
        "!python script.py"
      ],
      "execution_count": 19,
      "outputs": [
        {
          "output_type": "stream",
          "text": [
            "[TensorRT] ERROR: CUDA initialization failure with error 35. Please check your CUDA installation:  http://docs.nvidia.com/cuda/cuda-installation-guide-linux/index.html\n",
            "Traceback (most recent call last):\n",
            "  File \"script.py\", line 33, in <module>\n",
            "    model_trt = torch2trt.torch2trt(model, [data], fp16_mode=True, max_workspace_size=1<<25)\n",
            "  File \"/usr/local/lib/python3.6/dist-packages/torch2trt/torch2trt.py\", line 366, in torch2trt\n",
            "    builder = trt.Builder(logger)\n",
            "TypeError: pybind11::init(): factory function returned nullptr\n"
          ],
          "name": "stdout"
        }
      ]
    },
    {
      "cell_type": "code",
      "metadata": {
        "id": "k0xzQreyPcSP",
        "colab_type": "code",
        "colab": {}
      },
      "source": [
        ""
      ],
      "execution_count": 0,
      "outputs": []
    }
  ]
}