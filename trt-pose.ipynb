{
  "nbformat": 4,
  "nbformat_minor": 0,
  "metadata": {
    "colab": {
      "name": "Untitled1.ipynb",
      "provenance": [],
      "authorship_tag": "ABX9TyPuHRAW8LZoQx38VQX2yZbM",
      "include_colab_link": true
    },
    "kernelspec": {
      "name": "python3",
      "display_name": "Python 3"
    },
    "accelerator": "GPU"
  },
  "cells": [
    {
      "cell_type": "markdown",
      "metadata": {
        "id": "view-in-github",
        "colab_type": "text"
      },
      "source": [
        "<a href=\"https://colab.research.google.com/github/hfnvbh/colab-trt-pose/blob/master/trt-pose.ipynb\" target=\"_parent\"><img src=\"https://colab.research.google.com/assets/colab-badge.svg\" alt=\"Open In Colab\"/></a>"
      ]
    },
    {
      "cell_type": "code",
      "metadata": {
        "id": "x0rimLWMzUoU",
        "colab_type": "code",
        "colab": {
          "base_uri": "https://localhost:8080/",
          "height": 101
        },
        "outputId": "d30fe4fb-8c81-412c-df2a-57becc280886"
      },
      "source": [
        "pip install torch torchvision"
      ],
      "execution_count": 1,
      "outputs": [
        {
          "output_type": "stream",
          "text": [
            "Requirement already satisfied: torch in /usr/local/lib/python3.6/dist-packages (1.5.0+cu101)\n",
            "Requirement already satisfied: torchvision in /usr/local/lib/python3.6/dist-packages (0.6.0+cu101)\n",
            "Requirement already satisfied: future in /usr/local/lib/python3.6/dist-packages (from torch) (0.16.0)\n",
            "Requirement already satisfied: numpy in /usr/local/lib/python3.6/dist-packages (from torch) (1.18.4)\n",
            "Requirement already satisfied: pillow>=4.1.1 in /usr/local/lib/python3.6/dist-packages (from torchvision) (7.0.0)\n"
          ],
          "name": "stdout"
        }
      ]
    },
    {
      "cell_type": "code",
      "metadata": {
        "id": "Y32PYE62B7e8",
        "colab_type": "code",
        "colab": {
          "base_uri": "https://localhost:8080/",
          "height": 386
        },
        "outputId": "cefd91de-ae49-4700-c9c6-a5978410ede2"
      },
      "source": [
        "!apt-get install tensorrt"
      ],
      "execution_count": 2,
      "outputs": [
        {
          "output_type": "stream",
          "text": [
            "Reading package lists... Done\n",
            "Building dependency tree       \n",
            "Reading state information... Done\n",
            "Some packages could not be installed. This may mean that you have\n",
            "requested an impossible situation or if you are using the unstable\n",
            "distribution that some required packages have not yet been created\n",
            "or been moved out of Incoming.\n",
            "The following information may help to resolve the situation:\n",
            "\n",
            "The following packages have unmet dependencies:\n",
            " tensorrt : Depends: libnvinfer7 (= 7.0.0-1+cuda10.0) but 7.0.0-1+cuda10.2 is to be installed\n",
            "            Depends: libnvinfer-plugin7 (= 7.0.0-1+cuda10.0) but 7.0.0-1+cuda10.2 is to be installed\n",
            "            Depends: libnvparsers7 (= 7.0.0-1+cuda10.0) but 7.0.0-1+cuda10.2 is to be installed\n",
            "            Depends: libnvonnxparsers7 (= 7.0.0-1+cuda10.0) but 7.0.0-1+cuda10.2 is to be installed\n",
            "            Depends: libnvinfer-bin (= 7.0.0-1+cuda10.0) but it is not going to be installed\n",
            "            Depends: libnvinfer-dev (= 7.0.0-1+cuda10.0) but 7.0.0-1+cuda10.2 is to be installed\n",
            "            Depends: libnvinfer-plugin-dev (= 7.0.0-1+cuda10.0) but 7.0.0-1+cuda10.2 is to be installed\n",
            "            Depends: libnvparsers-dev (= 7.0.0-1+cuda10.0) but 7.0.0-1+cuda10.2 is to be installed\n",
            "            Depends: libnvonnxparsers-dev (= 7.0.0-1+cuda10.0) but 7.0.0-1+cuda10.2 is to be installed\n",
            "            Depends: libnvinfer-samples (= 7.0.0-1+cuda10.0) but it is not going to be installed\n",
            "            Depends: libnvinfer-doc (= 7.0.0-1+cuda10.0) but it is not going to be installed\n",
            "E: Unable to correct problems, you have held broken packages.\n"
          ],
          "name": "stdout"
        }
      ]
    },
    {
      "cell_type": "code",
      "metadata": {
        "id": "kiKx4zkmBymj",
        "colab_type": "code",
        "colab": {}
      },
      "source": [
        "!wget -q https://www.dropbox.com/s/p0sfni1dzb359hk/nv-tensorrt-repo-ubuntu1804-cuda10.1-trt5.1.5.0-ga-20190427_1-1_amd64.deb"
      ],
      "execution_count": 0,
      "outputs": []
    },
    {
      "cell_type": "code",
      "metadata": {
        "id": "ToFXww1ECK7q",
        "colab_type": "code",
        "colab": {
          "base_uri": "https://localhost:8080/",
          "height": 84
        },
        "outputId": "7fd9bc73-d9de-4e45-9e51-c7c56a5283f2"
      },
      "source": [
        "!dpkg -i nv-tensorrt-repo-ubuntu1804-cuda10.1-trt5.1.5.0-ga-20190427_1-1_amd64.deb"
      ],
      "execution_count": 9,
      "outputs": [
        {
          "output_type": "stream",
          "text": [
            "(Reading database ... \r(Reading database ... 5%\r(Reading database ... 10%\r(Reading database ... 15%\r(Reading database ... 20%\r(Reading database ... 25%\r(Reading database ... 30%\r(Reading database ... 35%\r(Reading database ... 40%\r(Reading database ... 45%\r(Reading database ... 50%\r(Reading database ... 55%\r(Reading database ... 60%\r(Reading database ... 65%\r(Reading database ... 70%\r(Reading database ... 75%\r(Reading database ... 80%\r(Reading database ... 85%\r(Reading database ... 90%\r(Reading database ... 95%\r(Reading database ... 100%\r(Reading database ... 144597 files and directories currently installed.)\n",
            "Preparing to unpack nv-tensorrt-repo-ubuntu1804-cuda10.1-trt5.1.5.0-ga-20190427_1-1_amd64.deb ...\n",
            "Unpacking nv-tensorrt-repo-ubuntu1804-cuda10.1-trt5.1.5.0-ga-20190427 (1-1) over (1-1) ...\n",
            "Setting up nv-tensorrt-repo-ubuntu1804-cuda10.1-trt5.1.5.0-ga-20190427 (1-1) ...\n"
          ],
          "name": "stdout"
        }
      ]
    },
    {
      "cell_type": "code",
      "metadata": {
        "id": "1TRznlfWCe8S",
        "colab_type": "code",
        "colab": {
          "base_uri": "https://localhost:8080/",
          "height": 34
        },
        "outputId": "0388bc26-8248-4e74-b8e8-0bfaae03a900"
      },
      "source": [
        "!apt-key add /var/nv-tensorrt-repo-cuda10.1-trt5.1.5.0-ga-20190427/7fa2af80.pub"
      ],
      "execution_count": 12,
      "outputs": [
        {
          "output_type": "stream",
          "text": [
            "OK\n"
          ],
          "name": "stdout"
        }
      ]
    },
    {
      "cell_type": "code",
      "metadata": {
        "id": "UPDRihSd1Uv0",
        "colab_type": "code",
        "colab": {
          "base_uri": "https://localhost:8080/",
          "height": 1000
        },
        "outputId": "bd5c3928-2030-4258-fa64-e1720714cb77"
      },
      "source": [
        "!apt-get update\n",
        "!apt-get install -y --no-install-recommends libnvinfer5=5.1.2-1+cuda10.0\n",
        "!apt-get install -y --no-install-recommends libnvinfer-dev=5.1.2-1+cuda10.0\n",
        "!apt-get install tensorrt\n",
        "!apt-get install python3-libnvinfer-dev\n",
        "!apt-get install uff-converter-tf"
      ],
      "execution_count": 13,
      "outputs": [
        {
          "output_type": "stream",
          "text": [
            "\r0% [Working]\r            \rGet:1 file:/var/nv-tensorrt-repo-cuda10.0-trt7.0.0.11-ga-20191216  InRelease\n",
            "\r            \rIgn:1 file:/var/nv-tensorrt-repo-cuda10.0-trt7.0.0.11-ga-20191216  InRelease\n",
            "\r0% [Connecting to security.ubuntu.com] [Connecting to cloud.r-project.org] [Con\r                                                                               \rGet:2 file:/var/nv-tensorrt-repo-cuda10.1-trt5.1.5.0-ga-20190427  InRelease\n",
            "\r                                                                               \rIgn:2 file:/var/nv-tensorrt-repo-cuda10.1-trt5.1.5.0-ga-20190427  InRelease\n",
            "\r0% [Connecting to security.ubuntu.com] [Connecting to cloud.r-project.org] [Con\r                                                                               \rGet:3 file:/var/nv-tensorrt-repo-cuda10.0-trt7.0.0.11-ga-20191216  Release [574 B]\n",
            "\r0% [Connecting to security.ubuntu.com] [Connecting to cloud.r-project.org] [Con\r                                                                               \rGet:4 file:/var/nv-tensorrt-repo-cuda10.1-trt5.1.5.0-ga-20190427  Release [574 B]\n",
            "\r0% [Connecting to archive.ubuntu.com] [Connecting to security.ubuntu.com] [Conn\r                                                                               \rGet:3 file:/var/nv-tensorrt-repo-cuda10.0-trt7.0.0.11-ga-20191216  Release [574 B]\n",
            "\r0% [3 Release 0 B/574 B 0%] [Connecting to archive.ubuntu.com] [Connecting to s\r0% [Connecting to archive.ubuntu.com] [Connecting to security.ubuntu.com] [Conn\r                                                                               \rGet:4 file:/var/nv-tensorrt-repo-cuda10.1-trt5.1.5.0-ga-20190427  Release [574 B]\n",
            "\r0% [Connecting to archive.ubuntu.com] [Connecting to security.ubuntu.com] [Conn\r                                                                               \rGet:5 file:/var/nv-tensorrt-repo-cuda10.1-trt5.1.5.0-ga-20190427  Release.gpg [836 B]\n",
            "\r0% [Connecting to archive.ubuntu.com] [Connecting to security.ubuntu.com] [Conn\r                                                                               \rGet:5 file:/var/nv-tensorrt-repo-cuda10.1-trt5.1.5.0-ga-20190427  Release.gpg [836 B]\n",
            "\r0% [Connecting to archive.ubuntu.com] [Connecting to security.ubuntu.com] [Conn\r0% [Release.gpg gpgv 574 B] [Connecting to archive.ubuntu.com] [Connecting to s\r                                                                               \rHit:6 https://cloud.r-project.org/bin/linux/ubuntu bionic-cran35/ InRelease\n",
            "\r0% [Release.gpg gpgv 574 B] [Connecting to archive.ubuntu.com] [Connecting to s\r0% [Connecting to archive.ubuntu.com] [Connecting to security.ubuntu.com] [Wait\r0% [5 Release.gpg gpgv 574 B] [Connecting to archive.ubuntu.com] [Connecting to\r                                                                               \rIgn:8 https://developer.download.nvidia.com/compute/cuda/repos/ubuntu1804/x86_64  InRelease\n",
            "\r0% [5 Release.gpg gpgv 574 B] [Connecting to archive.ubuntu.com (91.189.88.142)\r0% [Connecting to archive.ubuntu.com (91.189.88.142)] [Connecting to security.u\r                                                                               \rGet:9 file:/var/nv-tensorrt-repo-cuda10.1-trt5.1.5.0-ga-20190427  Packages [3,356 B]\n",
            "\r0% [Connecting to archive.ubuntu.com (91.189.88.142)] [Connecting to security.u\r0% [Connecting to archive.ubuntu.com (91.189.88.142)] [Connecting to security.u\r0% [6 InRelease gpgv 3,626 B] [Connecting to archive.ubuntu.com (91.189.88.142)\r0% [9 Packages store 0 B] [6 InRelease gpgv 3,626 B] [Connecting to archive.ubu\r0% [6 InRelease gpgv 3,626 B] [Connecting to archive.ubuntu.com (91.189.88.142)\r                                                                               \rIgn:10 https://developer.download.nvidia.com/compute/machine-learning/repos/ubuntu1804/x86_64  InRelease\n",
            "\r0% [6 InRelease gpgv 3,626 B] [Connecting to archive.ubuntu.com (91.189.88.142)\r                                                                               \rHit:11 https://developer.download.nvidia.com/compute/cuda/repos/ubuntu1804/x86_64  Release\n",
            "Hit:12 https://developer.download.nvidia.com/compute/machine-learning/repos/ubuntu1804/x86_64  Release\n",
            "Hit:13 http://ppa.launchpad.net/graphics-drivers/ppa/ubuntu bionic InRelease\n",
            "Get:15 http://security.ubuntu.com/ubuntu bionic-security InRelease [88.7 kB]\n",
            "Hit:17 http://archive.ubuntu.com/ubuntu bionic InRelease\n",
            "Get:18 http://archive.ubuntu.com/ubuntu bionic-updates InRelease [88.7 kB]\n",
            "Hit:19 http://ppa.launchpad.net/marutter/c2d4u3.5/ubuntu bionic InRelease\n",
            "Get:20 http://archive.ubuntu.com/ubuntu bionic-backports InRelease [74.6 kB]\n",
            "Fetched 252 kB in 2s (103 kB/s)\n",
            "Reading package lists... Done\n",
            "Reading package lists... Done\n",
            "Building dependency tree       \n",
            "Reading state information... Done\n",
            "libnvinfer5 is already the newest version (5.1.2-1+cuda10.0).\n",
            "The following packages were automatically installed and are no longer required:\n",
            "  cuda-cudart-10-2 cuda-cudart-dev-10-2 cuda-driver-dev-10-2 cuda-license-10-2\n",
            "Use 'apt autoremove' to remove them.\n",
            "0 upgraded, 0 newly installed, 0 to remove and 66 not upgraded.\n",
            "Reading package lists... Done\n",
            "Building dependency tree       \n",
            "Reading state information... Done\n",
            "The following packages were automatically installed and are no longer required:\n",
            "  cuda-cudart-10-2 cuda-cudart-dev-10-2 cuda-driver-dev-10-2 cuda-license-10-2\n",
            "  libnvinfer7\n",
            "Use 'apt autoremove' to remove them.\n",
            "The following packages will be DOWNGRADED:\n",
            "  libnvinfer-dev\n",
            "0 upgraded, 0 newly installed, 1 downgraded, 0 to remove and 66 not upgraded.\n",
            "Need to get 43.5 MB of archives.\n",
            "After this operation, 109 MB disk space will be freed.\n",
            "Get:1 https://developer.download.nvidia.com/compute/machine-learning/repos/ubuntu1804/x86_64  libnvinfer-dev 5.1.2-1+cuda10.0 [43.5 MB]\n",
            "Fetched 43.5 MB in 1s (60.5 MB/s)\n",
            "dpkg: warning: downgrading libnvinfer-dev from 7.0.0-1+cuda10.0 to 5.1.2-1+cuda10.0\n",
            "(Reading database ... 144597 files and directories currently installed.)\n",
            "Preparing to unpack .../libnvinfer-dev_5.1.2-1+cuda10.0_amd64.deb ...\n",
            "Unpacking libnvinfer-dev (5.1.2-1+cuda10.0) over (7.0.0-1+cuda10.0) ...\n",
            "Setting up libnvinfer-dev (5.1.2-1+cuda10.0) ...\n",
            "Reading package lists... Done\n",
            "Building dependency tree       \n",
            "Reading state information... Done\n",
            "Some packages could not be installed. This may mean that you have\n",
            "requested an impossible situation or if you are using the unstable\n",
            "distribution that some required packages have not yet been created\n",
            "or been moved out of Incoming.\n",
            "The following information may help to resolve the situation:\n",
            "\n",
            "The following packages have unmet dependencies:\n",
            " tensorrt : Depends: libnvinfer7 (= 7.0.0-1+cuda10.0) but 7.0.0-1+cuda10.2 is to be installed\n",
            "            Depends: libnvinfer-plugin7 (= 7.0.0-1+cuda10.0) but 7.0.0-1+cuda10.2 is to be installed\n",
            "            Depends: libnvparsers7 (= 7.0.0-1+cuda10.0) but 7.0.0-1+cuda10.2 is to be installed\n",
            "            Depends: libnvonnxparsers7 (= 7.0.0-1+cuda10.0) but 7.0.0-1+cuda10.2 is to be installed\n",
            "            Depends: libnvinfer-bin (= 7.0.0-1+cuda10.0) but it is not going to be installed\n",
            "            Depends: libnvinfer-dev (= 7.0.0-1+cuda10.0) but 7.0.0-1+cuda10.2 is to be installed\n",
            "            Depends: libnvinfer-plugin-dev (= 7.0.0-1+cuda10.0) but 7.0.0-1+cuda10.2 is to be installed\n",
            "            Depends: libnvparsers-dev (= 7.0.0-1+cuda10.0) but 7.0.0-1+cuda10.2 is to be installed\n",
            "            Depends: libnvonnxparsers-dev (= 7.0.0-1+cuda10.0) but 7.0.0-1+cuda10.2 is to be installed\n",
            "            Depends: libnvinfer-samples (= 7.0.0-1+cuda10.0) but it is not going to be installed\n",
            "            Depends: libnvinfer-doc (= 7.0.0-1+cuda10.0) but it is not going to be installed\n",
            "E: Unable to correct problems, you have held broken packages.\n",
            "Reading package lists... Done\n",
            "Building dependency tree       \n",
            "Reading state information... Done\n",
            "The following additional packages will be installed:\n",
            "  libnvinfer-dev libnvinfer-plugin-dev libnvinfer-plugin7 libnvinfer7\n",
            "  libnvonnxparsers-dev libnvonnxparsers7 libnvparsers-dev libnvparsers7\n",
            "  python3-libnvinfer\n",
            "The following NEW packages will be installed:\n",
            "  libnvinfer-plugin-dev libnvinfer-plugin7 libnvonnxparsers-dev\n",
            "  libnvonnxparsers7 libnvparsers-dev libnvparsers7 python3-libnvinfer\n",
            "  python3-libnvinfer-dev\n",
            "The following packages will be upgraded:\n",
            "  libnvinfer-dev libnvinfer7\n",
            "2 upgraded, 8 newly installed, 0 to remove and 65 not upgraded.\n",
            "Need to get 162 MB of archives.\n",
            "After this operation, 173 MB of additional disk space will be used.\n",
            "Get:1 https://developer.download.nvidia.com/compute/machine-learning/repos/ubuntu1804/x86_64  libnvinfer7 7.0.0-1+cuda10.2 [77.2 MB]\n",
            "Get:2 https://developer.download.nvidia.com/compute/machine-learning/repos/ubuntu1804/x86_64  libnvinfer-dev 7.0.0-1+cuda10.2 [78.0 MB]\n",
            "Get:3 https://developer.download.nvidia.com/compute/machine-learning/repos/ubuntu1804/x86_64  libnvinfer-plugin7 7.0.0-1+cuda10.2 [2,250 kB]\n",
            "Get:4 https://developer.download.nvidia.com/compute/machine-learning/repos/ubuntu1804/x86_64  libnvinfer-plugin-dev 7.0.0-1+cuda10.2 [2,321 kB]\n",
            "Get:5 https://developer.download.nvidia.com/compute/machine-learning/repos/ubuntu1804/x86_64  libnvonnxparsers7 7.0.0-1+cuda10.2 [593 kB]\n",
            "Get:6 https://developer.download.nvidia.com/compute/machine-learning/repos/ubuntu1804/x86_64  libnvonnxparsers-dev 7.0.0-1+cuda10.2 [295 kB]\n",
            "Get:7 https://developer.download.nvidia.com/compute/machine-learning/repos/ubuntu1804/x86_64  libnvparsers7 7.0.0-1+cuda10.2 [791 kB]\n",
            "Get:8 https://developer.download.nvidia.com/compute/machine-learning/repos/ubuntu1804/x86_64  libnvparsers-dev 7.0.0-1+cuda10.2 [541 kB]\n",
            "Get:9 https://developer.download.nvidia.com/compute/machine-learning/repos/ubuntu1804/x86_64  python3-libnvinfer 7.0.0-1+cuda10.2 [355 kB]\n",
            "Get:10 https://developer.download.nvidia.com/compute/machine-learning/repos/ubuntu1804/x86_64  python3-libnvinfer-dev 7.0.0-1+cuda10.2 [3,648 B]\n",
            "Fetched 162 MB in 3s (61.4 MB/s)\n",
            "(Reading database ... 144611 files and directories currently installed.)\n",
            "Preparing to unpack .../0-libnvinfer7_7.0.0-1+cuda10.2_amd64.deb ...\n",
            "Unpacking libnvinfer7 (7.0.0-1+cuda10.2) over (7.0.0-1+cuda10.0) ...\n",
            "Preparing to unpack .../1-libnvinfer-dev_7.0.0-1+cuda10.2_amd64.deb ...\n",
            "Unpacking libnvinfer-dev (7.0.0-1+cuda10.2) over (5.1.2-1+cuda10.0) ...\n",
            "Selecting previously unselected package libnvinfer-plugin7.\n",
            "Preparing to unpack .../2-libnvinfer-plugin7_7.0.0-1+cuda10.2_amd64.deb ...\n",
            "Unpacking libnvinfer-plugin7 (7.0.0-1+cuda10.2) ...\n",
            "Selecting previously unselected package libnvinfer-plugin-dev.\n",
            "Preparing to unpack .../3-libnvinfer-plugin-dev_7.0.0-1+cuda10.2_amd64.deb ...\n",
            "Unpacking libnvinfer-plugin-dev (7.0.0-1+cuda10.2) ...\n",
            "Selecting previously unselected package libnvonnxparsers7.\n",
            "Preparing to unpack .../4-libnvonnxparsers7_7.0.0-1+cuda10.2_amd64.deb ...\n",
            "Unpacking libnvonnxparsers7 (7.0.0-1+cuda10.2) ...\n",
            "Selecting previously unselected package libnvonnxparsers-dev.\n",
            "Preparing to unpack .../5-libnvonnxparsers-dev_7.0.0-1+cuda10.2_amd64.deb ...\n",
            "Unpacking libnvonnxparsers-dev (7.0.0-1+cuda10.2) ...\n",
            "Selecting previously unselected package libnvparsers7.\n",
            "Preparing to unpack .../6-libnvparsers7_7.0.0-1+cuda10.2_amd64.deb ...\n",
            "Unpacking libnvparsers7 (7.0.0-1+cuda10.2) ...\n",
            "Selecting previously unselected package libnvparsers-dev.\n",
            "Preparing to unpack .../7-libnvparsers-dev_7.0.0-1+cuda10.2_amd64.deb ...\n",
            "Unpacking libnvparsers-dev (7.0.0-1+cuda10.2) ...\n",
            "Selecting previously unselected package python3-libnvinfer.\n",
            "Preparing to unpack .../8-python3-libnvinfer_7.0.0-1+cuda10.2_amd64.deb ...\n",
            "Unpacking python3-libnvinfer (7.0.0-1+cuda10.2) ...\n",
            "Selecting previously unselected package python3-libnvinfer-dev.\n",
            "Preparing to unpack .../9-python3-libnvinfer-dev_7.0.0-1+cuda10.2_amd64.deb ...\n",
            "Unpacking python3-libnvinfer-dev (7.0.0-1+cuda10.2) ...\n",
            "Setting up libnvinfer7 (7.0.0-1+cuda10.2) ...\n",
            "Setting up libnvinfer-dev (7.0.0-1+cuda10.2) ...\n",
            "Setting up libnvinfer-plugin7 (7.0.0-1+cuda10.2) ...\n",
            "Setting up libnvparsers7 (7.0.0-1+cuda10.2) ...\n",
            "Setting up libnvonnxparsers7 (7.0.0-1+cuda10.2) ...\n",
            "Setting up libnvinfer-plugin-dev (7.0.0-1+cuda10.2) ...\n",
            "Setting up libnvparsers-dev (7.0.0-1+cuda10.2) ...\n",
            "Setting up python3-libnvinfer (7.0.0-1+cuda10.2) ...\n",
            "Setting up libnvonnxparsers-dev (7.0.0-1+cuda10.2) ...\n",
            "Setting up python3-libnvinfer-dev (7.0.0-1+cuda10.2) ...\n",
            "Processing triggers for libc-bin (2.27-3ubuntu1) ...\n",
            "/sbin/ldconfig.real: /usr/local/lib/python3.6/dist-packages/ideep4py/lib/libmkldnn.so.0 is not a symbolic link\n",
            "\n",
            "Reading package lists... Done\n",
            "Building dependency tree       \n",
            "Reading state information... Done\n",
            "The following additional packages will be installed:\n",
            "  graphsurgeon-tf\n",
            "The following NEW packages will be installed:\n",
            "  graphsurgeon-tf uff-converter-tf\n",
            "0 upgraded, 2 newly installed, 0 to remove and 65 not upgraded.\n",
            "Need to get 0 B/53.9 kB of archives.\n",
            "After this operation, 778 kB of additional disk space will be used.\n",
            "Get:1 file:/var/nv-tensorrt-repo-cuda10.0-trt7.0.0.11-ga-20191216  graphsurgeon-tf 7.0.0-1+cuda10.0 [16.1 kB]\n",
            "Get:2 file:/var/nv-tensorrt-repo-cuda10.0-trt7.0.0.11-ga-20191216  uff-converter-tf 7.0.0-1+cuda10.0 [37.8 kB]\n",
            "Selecting previously unselected package graphsurgeon-tf.\n",
            "(Reading database ... 144666 files and directories currently installed.)\n",
            "Preparing to unpack .../graphsurgeon-tf_7.0.0-1+cuda10.0_amd64.deb ...\n",
            "Unpacking graphsurgeon-tf (7.0.0-1+cuda10.0) ...\n",
            "Selecting previously unselected package uff-converter-tf.\n",
            "Preparing to unpack .../uff-converter-tf_7.0.0-1+cuda10.0_amd64.deb ...\n",
            "Unpacking uff-converter-tf (7.0.0-1+cuda10.0) ...\n",
            "Setting up graphsurgeon-tf (7.0.0-1+cuda10.0) ...\n",
            "Setting up uff-converter-tf (7.0.0-1+cuda10.0) ...\n"
          ],
          "name": "stdout"
        }
      ]
    },
    {
      "cell_type": "code",
      "metadata": {
        "id": "TC29gADIDeH5",
        "colab_type": "code",
        "colab": {
          "base_uri": "https://localhost:8080/",
          "height": 255
        },
        "outputId": "6228edde-5607-4911-ce89-d63b8f9d3689"
      },
      "source": [
        "!dpkg -l | grep TensorRT"
      ],
      "execution_count": 14,
      "outputs": [
        {
          "output_type": "stream",
          "text": [
            "ii  graphsurgeon-tf                                              7.0.0-1+cuda10.0                                  amd64        GraphSurgeon for TensorRT package\n",
            "ii  libnvinfer-dev                                               7.0.0-1+cuda10.2                                  amd64        TensorRT development libraries and headers\n",
            "ii  libnvinfer-plugin-dev                                        7.0.0-1+cuda10.2                                  amd64        TensorRT plugin libraries\n",
            "ii  libnvinfer-plugin7                                           7.0.0-1+cuda10.2                                  amd64        TensorRT plugin libraries\n",
            "ii  libnvinfer5                                                  5.1.2-1+cuda10.0                                  amd64        TensorRT runtime libraries\n",
            "ii  libnvinfer7                                                  7.0.0-1+cuda10.2                                  amd64        TensorRT runtime libraries\n",
            "ii  libnvonnxparsers-dev                                         7.0.0-1+cuda10.2                                  amd64        TensorRT ONNX libraries\n",
            "ii  libnvonnxparsers7                                            7.0.0-1+cuda10.2                                  amd64        TensorRT ONNX libraries\n",
            "ii  libnvparsers-dev                                             7.0.0-1+cuda10.2                                  amd64        TensorRT parsers libraries\n",
            "ii  libnvparsers7                                                7.0.0-1+cuda10.2                                  amd64        TensorRT parsers libraries\n",
            "ii  python3-libnvinfer                                           7.0.0-1+cuda10.2                                  amd64        Python 3 bindings for TensorRT\n",
            "ii  python3-libnvinfer-dev                                       7.0.0-1+cuda10.2                                  amd64        Python 3 development package for TensorRT\n",
            "ii  uff-converter-tf                                             7.0.0-1+cuda10.0                                  amd64        UFF converter for TensorRT package\n"
          ],
          "name": "stdout"
        }
      ]
    },
    {
      "cell_type": "code",
      "metadata": {
        "id": "674HRjHb1oUD",
        "colab_type": "code",
        "colab": {
          "base_uri": "https://localhost:8080/",
          "height": 134
        },
        "outputId": "859c4631-dc6b-4113-92a0-da302fdb157d"
      },
      "source": [
        "!nvcc --version\n",
        "!cat /etc/issue\n",
        "import tensorflow as tf\n",
        "print(tf.__version__)"
      ],
      "execution_count": 9,
      "outputs": [
        {
          "output_type": "stream",
          "text": [
            "nvcc: NVIDIA (R) Cuda compiler driver\n",
            "Copyright (c) 2005-2019 NVIDIA Corporation\n",
            "Built on Sun_Jul_28_19:07:16_PDT_2019\n",
            "Cuda compilation tools, release 10.1, V10.1.243\n",
            "Ubuntu 18.04.3 LTS \\n \\l\n",
            "\n",
            "2.2.0\n"
          ],
          "name": "stdout"
        }
      ]
    },
    {
      "cell_type": "code",
      "metadata": {
        "id": "giTqfYhB3fSV",
        "colab_type": "code",
        "colab": {
          "base_uri": "https://localhost:8080/",
          "height": 168
        },
        "outputId": "a8ed0bc9-02f0-49d8-e76d-c444067ad26d"
      },
      "source": [
        "!pip3 install tqdm cython pycocotools\n",
        "!apt-get install python3-matplotlib\n",
        "!git clone https://github.com/NVIDIA-AI-IOT/trt_pose"
      ],
      "execution_count": 22,
      "outputs": [
        {
          "output_type": "stream",
          "text": [
            "Requirement already satisfied: tqdm in /usr/local/lib/python3.6/dist-packages (4.41.1)\n",
            "Requirement already satisfied: cython in /usr/local/lib/python3.6/dist-packages (0.29.19)\n",
            "Requirement already satisfied: pycocotools in /usr/local/lib/python3.6/dist-packages (2.0.0)\n",
            "Reading package lists... Done\n",
            "Building dependency tree       \n",
            "Reading state information... Done\n",
            "python3-matplotlib is already the newest version (2.1.1-2ubuntu3).\n",
            "0 upgraded, 0 newly installed, 0 to remove and 65 not upgraded.\n",
            "fatal: destination path 'trt_pose' already exists and is not an empty directory.\n"
          ],
          "name": "stdout"
        }
      ]
    },
    {
      "cell_type": "code",
      "metadata": {
        "id": "-EyMmUI66_8e",
        "colab_type": "code",
        "colab": {
          "base_uri": "https://localhost:8080/",
          "height": 1000
        },
        "outputId": "8512258f-7352-44ff-b595-a73612ec6300"
      },
      "source": [
        "!cd trt_pose && python3 setup.py install"
      ],
      "execution_count": 24,
      "outputs": [
        {
          "output_type": "stream",
          "text": [
            "running install\n",
            "running bdist_egg\n",
            "running egg_info\n",
            "creating trt_pose.egg-info\n",
            "writing trt_pose.egg-info/PKG-INFO\n",
            "writing dependency_links to trt_pose.egg-info/dependency_links.txt\n",
            "writing top-level names to trt_pose.egg-info/top_level.txt\n",
            "writing manifest file 'trt_pose.egg-info/SOURCES.txt'\n",
            "/usr/local/lib/python3.6/dist-packages/torch/utils/cpp_extension.py:304: UserWarning: Attempted to use ninja as the BuildExtension backend but we could not find ninja.. Falling back to using the slow distutils backend.\n",
            "  warnings.warn(msg.format('we could not find ninja.'))\n",
            "writing manifest file 'trt_pose.egg-info/SOURCES.txt'\n",
            "installing library code to build/bdist.linux-x86_64/egg\n",
            "running install_lib\n",
            "running build_py\n",
            "creating build\n",
            "creating build/lib.linux-x86_64-3.6\n",
            "creating build/lib.linux-x86_64-3.6/trt_pose\n",
            "copying trt_pose/parse_objects.py -> build/lib.linux-x86_64-3.6/trt_pose\n",
            "copying trt_pose/train.py -> build/lib.linux-x86_64-3.6/trt_pose\n",
            "copying trt_pose/coco.py -> build/lib.linux-x86_64-3.6/trt_pose\n",
            "copying trt_pose/draw_objects.py -> build/lib.linux-x86_64-3.6/trt_pose\n",
            "copying trt_pose/__init__.py -> build/lib.linux-x86_64-3.6/trt_pose\n",
            "creating build/lib.linux-x86_64-3.6/trt_pose/models\n",
            "copying trt_pose/models/resnet.py -> build/lib.linux-x86_64-3.6/trt_pose/models\n",
            "copying trt_pose/models/dla.py -> build/lib.linux-x86_64-3.6/trt_pose/models\n",
            "copying trt_pose/models/densenet.py -> build/lib.linux-x86_64-3.6/trt_pose/models\n",
            "copying trt_pose/models/common.py -> build/lib.linux-x86_64-3.6/trt_pose/models\n",
            "copying trt_pose/models/mnasnet.py -> build/lib.linux-x86_64-3.6/trt_pose/models\n",
            "copying trt_pose/models/__init__.py -> build/lib.linux-x86_64-3.6/trt_pose/models\n",
            "creating build/lib.linux-x86_64-3.6/trt_pose/utils\n",
            "copying trt_pose/utils/export_for_isaac.py -> build/lib.linux-x86_64-3.6/trt_pose/utils\n",
            "copying trt_pose/utils/__init__.py -> build/lib.linux-x86_64-3.6/trt_pose/utils\n",
            "running build_ext\n",
            "building 'plugins' extension\n",
            "creating build/temp.linux-x86_64-3.6\n",
            "creating build/temp.linux-x86_64-3.6/trt_pose\n",
            "creating build/temp.linux-x86_64-3.6/trt_pose/parse\n",
            "creating build/temp.linux-x86_64-3.6/trt_pose/train\n",
            "x86_64-linux-gnu-gcc -pthread -DNDEBUG -g -fwrapv -O2 -Wall -g -fstack-protector-strong -Wformat -Werror=format-security -Wdate-time -D_FORTIFY_SOURCE=2 -fPIC -I/usr/local/lib/python3.6/dist-packages/torch/include -I/usr/local/lib/python3.6/dist-packages/torch/include/torch/csrc/api/include -I/usr/local/lib/python3.6/dist-packages/torch/include/TH -I/usr/local/lib/python3.6/dist-packages/torch/include/THC -I/usr/include/python3.6m -c trt_pose/parse/find_peaks.cpp -o build/temp.linux-x86_64-3.6/trt_pose/parse/find_peaks.o -DTORCH_API_INCLUDE_EXTENSION_H -DTORCH_EXTENSION_NAME=plugins -D_GLIBCXX_USE_CXX11_ABI=0 -std=c++14\n",
            "x86_64-linux-gnu-gcc -pthread -DNDEBUG -g -fwrapv -O2 -Wall -g -fstack-protector-strong -Wformat -Werror=format-security -Wdate-time -D_FORTIFY_SOURCE=2 -fPIC -I/usr/local/lib/python3.6/dist-packages/torch/include -I/usr/local/lib/python3.6/dist-packages/torch/include/torch/csrc/api/include -I/usr/local/lib/python3.6/dist-packages/torch/include/TH -I/usr/local/lib/python3.6/dist-packages/torch/include/THC -I/usr/include/python3.6m -c trt_pose/parse/paf_score_graph.cpp -o build/temp.linux-x86_64-3.6/trt_pose/parse/paf_score_graph.o -DTORCH_API_INCLUDE_EXTENSION_H -DTORCH_EXTENSION_NAME=plugins -D_GLIBCXX_USE_CXX11_ABI=0 -std=c++14\n",
            "\u001b[01m\u001b[Ktrt_pose/parse/paf_score_graph.cpp:\u001b[m\u001b[K In function ‘\u001b[01m\u001b[Kvoid trt_pose::parse::paf_score_graph_out_hw(float*, const float*, const float*, int, int, const float*, const float*, int, int, int, int)\u001b[m\u001b[K’:\n",
            "\u001b[01m\u001b[Ktrt_pose/parse/paf_score_graph.cpp:37:13:\u001b[m\u001b[K \u001b[01;35m\u001b[Kwarning: \u001b[m\u001b[Kunused variable ‘\u001b[01m\u001b[Kincrement\u001b[m\u001b[K’ [\u001b[01;35m\u001b[K-Wunused-variable\u001b[m\u001b[K]\n",
            "       float \u001b[01;35m\u001b[Kincrement\u001b[m\u001b[K = 1.f / num_integral_samples;\n",
            "             \u001b[01;35m\u001b[K^~~~~~~~~\u001b[m\u001b[K\n",
            "x86_64-linux-gnu-gcc -pthread -DNDEBUG -g -fwrapv -O2 -Wall -g -fstack-protector-strong -Wformat -Werror=format-security -Wdate-time -D_FORTIFY_SOURCE=2 -fPIC -I/usr/local/lib/python3.6/dist-packages/torch/include -I/usr/local/lib/python3.6/dist-packages/torch/include/torch/csrc/api/include -I/usr/local/lib/python3.6/dist-packages/torch/include/TH -I/usr/local/lib/python3.6/dist-packages/torch/include/THC -I/usr/include/python3.6m -c trt_pose/parse/refine_peaks.cpp -o build/temp.linux-x86_64-3.6/trt_pose/parse/refine_peaks.o -DTORCH_API_INCLUDE_EXTENSION_H -DTORCH_EXTENSION_NAME=plugins -D_GLIBCXX_USE_CXX11_ABI=0 -std=c++14\n",
            "x86_64-linux-gnu-gcc -pthread -DNDEBUG -g -fwrapv -O2 -Wall -g -fstack-protector-strong -Wformat -Werror=format-security -Wdate-time -D_FORTIFY_SOURCE=2 -fPIC -I/usr/local/lib/python3.6/dist-packages/torch/include -I/usr/local/lib/python3.6/dist-packages/torch/include/torch/csrc/api/include -I/usr/local/lib/python3.6/dist-packages/torch/include/TH -I/usr/local/lib/python3.6/dist-packages/torch/include/THC -I/usr/include/python3.6m -c trt_pose/parse/munkres.cpp -o build/temp.linux-x86_64-3.6/trt_pose/parse/munkres.o -DTORCH_API_INCLUDE_EXTENSION_H -DTORCH_EXTENSION_NAME=plugins -D_GLIBCXX_USE_CXX11_ABI=0 -std=c++14\n",
            "\u001b[01m\u001b[Ktrt_pose/parse/munkres.cpp:\u001b[m\u001b[K In function ‘\u001b[01m\u001b[Kvoid trt_pose::parse::munkresStep5(float*, int, const trt_pose::parse::utils::CoverTable&, int, int)\u001b[m\u001b[K’:\n",
            "\u001b[01m\u001b[Ktrt_pose/parse/munkres.cpp:135:31:\u001b[m\u001b[K \u001b[01;35m\u001b[Kwarning: \u001b[m\u001b[K‘\u001b[01m\u001b[Kmin\u001b[m\u001b[K’ may be used uninitialized in this function [\u001b[01;35m\u001b[K-Wmaybe-uninitialized\u001b[m\u001b[K]\n",
            "         \u001b[01;35m\u001b[Kcost_graph[i * M + j] += min\u001b[m\u001b[K;\n",
            "         \u001b[01;35m\u001b[K~~~~~~~~~~~~~~~~~~~~~~^~~~~~\u001b[m\u001b[K\n",
            "x86_64-linux-gnu-gcc -pthread -DNDEBUG -g -fwrapv -O2 -Wall -g -fstack-protector-strong -Wformat -Werror=format-security -Wdate-time -D_FORTIFY_SOURCE=2 -fPIC -I/usr/local/lib/python3.6/dist-packages/torch/include -I/usr/local/lib/python3.6/dist-packages/torch/include/torch/csrc/api/include -I/usr/local/lib/python3.6/dist-packages/torch/include/TH -I/usr/local/lib/python3.6/dist-packages/torch/include/THC -I/usr/include/python3.6m -c trt_pose/parse/connect_parts.cpp -o build/temp.linux-x86_64-3.6/trt_pose/parse/connect_parts.o -DTORCH_API_INCLUDE_EXTENSION_H -DTORCH_EXTENSION_NAME=plugins -D_GLIBCXX_USE_CXX11_ABI=0 -std=c++14\n",
            "x86_64-linux-gnu-gcc -pthread -DNDEBUG -g -fwrapv -O2 -Wall -g -fstack-protector-strong -Wformat -Werror=format-security -Wdate-time -D_FORTIFY_SOURCE=2 -fPIC -I/usr/local/lib/python3.6/dist-packages/torch/include -I/usr/local/lib/python3.6/dist-packages/torch/include/torch/csrc/api/include -I/usr/local/lib/python3.6/dist-packages/torch/include/TH -I/usr/local/lib/python3.6/dist-packages/torch/include/THC -I/usr/include/python3.6m -c trt_pose/plugins.cpp -o build/temp.linux-x86_64-3.6/trt_pose/plugins.o -DTORCH_API_INCLUDE_EXTENSION_H -DTORCH_EXTENSION_NAME=plugins -D_GLIBCXX_USE_CXX11_ABI=0 -std=c++14\n",
            "\u001b[01m\u001b[Ktrt_pose/plugins.cpp:\u001b[m\u001b[K In function ‘\u001b[01m\u001b[Kstd::vector<at::Tensor> find_peaks_torch(at::Tensor, float, int, int)\u001b[m\u001b[K’:\n",
            "\u001b[01m\u001b[Ktrt_pose/plugins.cpp:45:13:\u001b[m\u001b[K \u001b[01;35m\u001b[Kwarning: \u001b[m\u001b[Kunused variable ‘\u001b[01m\u001b[KH\u001b[m\u001b[K’ [\u001b[01;35m\u001b[K-Wunused-variable\u001b[m\u001b[K]\n",
            "   const int \u001b[01;35m\u001b[KH\u001b[m\u001b[K = input.size(2);\n",
            "             \u001b[01;35m\u001b[K^\u001b[m\u001b[K\n",
            "\u001b[01m\u001b[Ktrt_pose/plugins.cpp:46:13:\u001b[m\u001b[K \u001b[01;35m\u001b[Kwarning: \u001b[m\u001b[Kunused variable ‘\u001b[01m\u001b[KW\u001b[m\u001b[K’ [\u001b[01;35m\u001b[K-Wunused-variable\u001b[m\u001b[K]\n",
            "   const int \u001b[01;35m\u001b[KW\u001b[m\u001b[K = input.size(3);\n",
            "             \u001b[01;35m\u001b[K^\u001b[m\u001b[K\n",
            "\u001b[01m\u001b[Ktrt_pose/plugins.cpp:\u001b[m\u001b[K In function ‘\u001b[01m\u001b[Kstd::vector<at::Tensor> connect_parts_torch(at::Tensor, at::Tensor, at::Tensor, int)\u001b[m\u001b[K’:\n",
            "\u001b[01m\u001b[Ktrt_pose/plugins.cpp:186:9:\u001b[m\u001b[K \u001b[01;35m\u001b[Kwarning: \u001b[m\u001b[Kunused variable ‘\u001b[01m\u001b[KK\u001b[m\u001b[K’ [\u001b[01;35m\u001b[K-Wunused-variable\u001b[m\u001b[K]\n",
            "     int \u001b[01;35m\u001b[KK\u001b[m\u001b[K = topology.size(0);\n",
            "         \u001b[01;35m\u001b[K^\u001b[m\u001b[K\n",
            "\u001b[01m\u001b[Ktrt_pose/plugins.cpp:188:9:\u001b[m\u001b[K \u001b[01;35m\u001b[Kwarning: \u001b[m\u001b[Kunused variable ‘\u001b[01m\u001b[KM\u001b[m\u001b[K’ [\u001b[01;35m\u001b[K-Wunused-variable\u001b[m\u001b[K]\n",
            "     int \u001b[01;35m\u001b[KM\u001b[m\u001b[K = connections.size(3);\n",
            "         \u001b[01;35m\u001b[K^\u001b[m\u001b[K\n",
            "x86_64-linux-gnu-gcc -pthread -DNDEBUG -g -fwrapv -O2 -Wall -g -fstack-protector-strong -Wformat -Werror=format-security -Wdate-time -D_FORTIFY_SOURCE=2 -fPIC -I/usr/local/lib/python3.6/dist-packages/torch/include -I/usr/local/lib/python3.6/dist-packages/torch/include/torch/csrc/api/include -I/usr/local/lib/python3.6/dist-packages/torch/include/TH -I/usr/local/lib/python3.6/dist-packages/torch/include/THC -I/usr/include/python3.6m -c trt_pose/train/generate_cmap.cpp -o build/temp.linux-x86_64-3.6/trt_pose/train/generate_cmap.o -DTORCH_API_INCLUDE_EXTENSION_H -DTORCH_EXTENSION_NAME=plugins -D_GLIBCXX_USE_CXX11_ABI=0 -std=c++14\n",
            "\u001b[01m\u001b[Ktrt_pose/train/generate_cmap.cpp:\u001b[m\u001b[K In function ‘\u001b[01m\u001b[Kat::Tensor trt_pose::train::generate_cmap(at::Tensor, at::Tensor, int, int, float, int)\u001b[m\u001b[K’:\n",
            "\u001b[01m\u001b[Ktrt_pose/train/generate_cmap.cpp:16:9:\u001b[m\u001b[K \u001b[01;35m\u001b[Kwarning: \u001b[m\u001b[Kunused variable ‘\u001b[01m\u001b[KM\u001b[m\u001b[K’ [\u001b[01;35m\u001b[K-Wunused-variable\u001b[m\u001b[K]\n",
            "     int \u001b[01;35m\u001b[KM\u001b[m\u001b[K = peaks.size(2);\n",
            "         \u001b[01;35m\u001b[K^\u001b[m\u001b[K\n",
            "x86_64-linux-gnu-gcc -pthread -DNDEBUG -g -fwrapv -O2 -Wall -g -fstack-protector-strong -Wformat -Werror=format-security -Wdate-time -D_FORTIFY_SOURCE=2 -fPIC -I/usr/local/lib/python3.6/dist-packages/torch/include -I/usr/local/lib/python3.6/dist-packages/torch/include/torch/csrc/api/include -I/usr/local/lib/python3.6/dist-packages/torch/include/TH -I/usr/local/lib/python3.6/dist-packages/torch/include/THC -I/usr/include/python3.6m -c trt_pose/train/generate_paf.cpp -o build/temp.linux-x86_64-3.6/trt_pose/train/generate_paf.o -DTORCH_API_INCLUDE_EXTENSION_H -DTORCH_EXTENSION_NAME=plugins -D_GLIBCXX_USE_CXX11_ABI=0 -std=c++14\n",
            "x86_64-linux-gnu-g++ -pthread -shared -Wl,-O1 -Wl,-Bsymbolic-functions -Wl,-Bsymbolic-functions -Wl,-z,relro -Wl,-Bsymbolic-functions -Wl,-z,relro -g -fstack-protector-strong -Wformat -Werror=format-security -Wdate-time -D_FORTIFY_SOURCE=2 build/temp.linux-x86_64-3.6/trt_pose/parse/find_peaks.o build/temp.linux-x86_64-3.6/trt_pose/parse/paf_score_graph.o build/temp.linux-x86_64-3.6/trt_pose/parse/refine_peaks.o build/temp.linux-x86_64-3.6/trt_pose/parse/munkres.o build/temp.linux-x86_64-3.6/trt_pose/parse/connect_parts.o build/temp.linux-x86_64-3.6/trt_pose/plugins.o build/temp.linux-x86_64-3.6/trt_pose/train/generate_cmap.o build/temp.linux-x86_64-3.6/trt_pose/train/generate_paf.o -L/usr/local/lib/python3.6/dist-packages/torch/lib -lc10 -ltorch -ltorch_cpu -ltorch_python -o build/lib.linux-x86_64-3.6/trt_pose/plugins.cpython-36m-x86_64-linux-gnu.so\n",
            "creating build/bdist.linux-x86_64\n",
            "creating build/bdist.linux-x86_64/egg\n",
            "creating build/bdist.linux-x86_64/egg/trt_pose\n",
            "creating build/bdist.linux-x86_64/egg/trt_pose/models\n",
            "copying build/lib.linux-x86_64-3.6/trt_pose/models/resnet.py -> build/bdist.linux-x86_64/egg/trt_pose/models\n",
            "copying build/lib.linux-x86_64-3.6/trt_pose/models/dla.py -> build/bdist.linux-x86_64/egg/trt_pose/models\n",
            "copying build/lib.linux-x86_64-3.6/trt_pose/models/densenet.py -> build/bdist.linux-x86_64/egg/trt_pose/models\n",
            "copying build/lib.linux-x86_64-3.6/trt_pose/models/common.py -> build/bdist.linux-x86_64/egg/trt_pose/models\n",
            "copying build/lib.linux-x86_64-3.6/trt_pose/models/mnasnet.py -> build/bdist.linux-x86_64/egg/trt_pose/models\n",
            "copying build/lib.linux-x86_64-3.6/trt_pose/models/__init__.py -> build/bdist.linux-x86_64/egg/trt_pose/models\n",
            "copying build/lib.linux-x86_64-3.6/trt_pose/parse_objects.py -> build/bdist.linux-x86_64/egg/trt_pose\n",
            "copying build/lib.linux-x86_64-3.6/trt_pose/train.py -> build/bdist.linux-x86_64/egg/trt_pose\n",
            "copying build/lib.linux-x86_64-3.6/trt_pose/plugins.cpython-36m-x86_64-linux-gnu.so -> build/bdist.linux-x86_64/egg/trt_pose\n",
            "copying build/lib.linux-x86_64-3.6/trt_pose/coco.py -> build/bdist.linux-x86_64/egg/trt_pose\n",
            "copying build/lib.linux-x86_64-3.6/trt_pose/draw_objects.py -> build/bdist.linux-x86_64/egg/trt_pose\n",
            "copying build/lib.linux-x86_64-3.6/trt_pose/__init__.py -> build/bdist.linux-x86_64/egg/trt_pose\n",
            "creating build/bdist.linux-x86_64/egg/trt_pose/utils\n",
            "copying build/lib.linux-x86_64-3.6/trt_pose/utils/export_for_isaac.py -> build/bdist.linux-x86_64/egg/trt_pose/utils\n",
            "copying build/lib.linux-x86_64-3.6/trt_pose/utils/__init__.py -> build/bdist.linux-x86_64/egg/trt_pose/utils\n",
            "byte-compiling build/bdist.linux-x86_64/egg/trt_pose/models/resnet.py to resnet.cpython-36.pyc\n",
            "byte-compiling build/bdist.linux-x86_64/egg/trt_pose/models/dla.py to dla.cpython-36.pyc\n",
            "byte-compiling build/bdist.linux-x86_64/egg/trt_pose/models/densenet.py to densenet.cpython-36.pyc\n",
            "byte-compiling build/bdist.linux-x86_64/egg/trt_pose/models/common.py to common.cpython-36.pyc\n",
            "byte-compiling build/bdist.linux-x86_64/egg/trt_pose/models/mnasnet.py to mnasnet.cpython-36.pyc\n",
            "byte-compiling build/bdist.linux-x86_64/egg/trt_pose/models/__init__.py to __init__.cpython-36.pyc\n",
            "byte-compiling build/bdist.linux-x86_64/egg/trt_pose/parse_objects.py to parse_objects.cpython-36.pyc\n",
            "byte-compiling build/bdist.linux-x86_64/egg/trt_pose/train.py to train.cpython-36.pyc\n",
            "byte-compiling build/bdist.linux-x86_64/egg/trt_pose/coco.py to coco.cpython-36.pyc\n",
            "byte-compiling build/bdist.linux-x86_64/egg/trt_pose/draw_objects.py to draw_objects.cpython-36.pyc\n",
            "byte-compiling build/bdist.linux-x86_64/egg/trt_pose/__init__.py to __init__.cpython-36.pyc\n",
            "byte-compiling build/bdist.linux-x86_64/egg/trt_pose/utils/export_for_isaac.py to export_for_isaac.cpython-36.pyc\n",
            "byte-compiling build/bdist.linux-x86_64/egg/trt_pose/utils/__init__.py to __init__.cpython-36.pyc\n",
            "creating stub loader for trt_pose/plugins.cpython-36m-x86_64-linux-gnu.so\n",
            "byte-compiling build/bdist.linux-x86_64/egg/trt_pose/plugins.py to plugins.cpython-36.pyc\n",
            "creating build/bdist.linux-x86_64/egg/EGG-INFO\n",
            "copying trt_pose.egg-info/PKG-INFO -> build/bdist.linux-x86_64/egg/EGG-INFO\n",
            "copying trt_pose.egg-info/SOURCES.txt -> build/bdist.linux-x86_64/egg/EGG-INFO\n",
            "copying trt_pose.egg-info/dependency_links.txt -> build/bdist.linux-x86_64/egg/EGG-INFO\n",
            "copying trt_pose.egg-info/top_level.txt -> build/bdist.linux-x86_64/egg/EGG-INFO\n",
            "writing build/bdist.linux-x86_64/egg/EGG-INFO/native_libs.txt\n",
            "zip_safe flag not set; analyzing archive contents...\n",
            "trt_pose.__pycache__.plugins.cpython-36: module references __file__\n",
            "trt_pose.models.__pycache__.dla.cpython-36: module references __file__\n",
            "creating dist\n",
            "creating 'dist/trt_pose-0.0.1-py3.6-linux-x86_64.egg' and adding 'build/bdist.linux-x86_64/egg' to it\n",
            "removing 'build/bdist.linux-x86_64/egg' (and everything under it)\n",
            "Processing trt_pose-0.0.1-py3.6-linux-x86_64.egg\n",
            "creating /usr/local/lib/python3.6/dist-packages/trt_pose-0.0.1-py3.6-linux-x86_64.egg\n",
            "Extracting trt_pose-0.0.1-py3.6-linux-x86_64.egg to /usr/local/lib/python3.6/dist-packages\n",
            "Adding trt-pose 0.0.1 to easy-install.pth file\n",
            "\n",
            "Installed /usr/local/lib/python3.6/dist-packages/trt_pose-0.0.1-py3.6-linux-x86_64.egg\n",
            "Processing dependencies for trt-pose==0.0.1\n",
            "Finished processing dependencies for trt-pose==0.0.1\n"
          ],
          "name": "stdout"
        }
      ]
    },
    {
      "cell_type": "code",
      "metadata": {
        "id": "alHHT7Cw9YjB",
        "colab_type": "code",
        "colab": {}
      },
      "source": [
        "!wget -q https://www.dropbox.com/s/r7ex76ofqsnjkjy/resnet18_baseline_att_224x224_A_epoch_249.pth"
      ],
      "execution_count": 0,
      "outputs": []
    },
    {
      "cell_type": "code",
      "metadata": {
        "id": "8_dDtSHlHSy4",
        "colab_type": "code",
        "colab": {
          "base_uri": "https://localhost:8080/",
          "height": 481
        },
        "outputId": "d2355dba-459f-46b8-b801-d2af6df432ea"
      },
      "source": [
        "\n",
        "import json\n",
        "import trt_pose.trt_pose.coco\n",
        "\n",
        "with open('human_pose.json', 'r') as f:\n",
        "    human_pose = json.load(f)\n",
        "\n",
        "topology = trt_pose.coco.coco_category_to_topology(human_pose)"
      ],
      "execution_count": 31,
      "outputs": [
        {
          "output_type": "error",
          "ename": "ModuleNotFoundError",
          "evalue": "ignored",
          "traceback": [
            "\u001b[0;31m---------------------------------------------------------------------------\u001b[0m",
            "\u001b[0;31mModuleNotFoundError\u001b[0m                       Traceback (most recent call last)",
            "\u001b[0;32m<ipython-input-31-d056a9eba24e>\u001b[0m in \u001b[0;36m<module>\u001b[0;34m()\u001b[0m\n\u001b[1;32m      1\u001b[0m \u001b[0;34m\u001b[0m\u001b[0m\n\u001b[1;32m      2\u001b[0m \u001b[0;32mimport\u001b[0m \u001b[0mjson\u001b[0m\u001b[0;34m\u001b[0m\u001b[0;34m\u001b[0m\u001b[0m\n\u001b[0;32m----> 3\u001b[0;31m \u001b[0;32mimport\u001b[0m \u001b[0mtrt_pose\u001b[0m\u001b[0;34m.\u001b[0m\u001b[0mtrt_pose\u001b[0m\u001b[0;34m.\u001b[0m\u001b[0mcoco\u001b[0m\u001b[0;34m\u001b[0m\u001b[0;34m\u001b[0m\u001b[0m\n\u001b[0m\u001b[1;32m      4\u001b[0m \u001b[0;34m\u001b[0m\u001b[0m\n\u001b[1;32m      5\u001b[0m \u001b[0;32mwith\u001b[0m \u001b[0mopen\u001b[0m\u001b[0;34m(\u001b[0m\u001b[0;34m'human_pose.json'\u001b[0m\u001b[0;34m,\u001b[0m \u001b[0;34m'r'\u001b[0m\u001b[0;34m)\u001b[0m \u001b[0;32mas\u001b[0m \u001b[0mf\u001b[0m\u001b[0;34m:\u001b[0m\u001b[0;34m\u001b[0m\u001b[0;34m\u001b[0m\u001b[0m\n",
            "\u001b[0;32m/content/trt_pose/trt_pose/coco.py\u001b[0m in \u001b[0;36m<module>\u001b[0;34m()\u001b[0m\n\u001b[1;32m      7\u001b[0m \u001b[0;32mimport\u001b[0m \u001b[0mtqdm\u001b[0m\u001b[0;34m\u001b[0m\u001b[0;34m\u001b[0m\u001b[0m\n\u001b[1;32m      8\u001b[0m \u001b[0;32mimport\u001b[0m \u001b[0mtrt_pose\u001b[0m\u001b[0;34m\u001b[0m\u001b[0;34m\u001b[0m\u001b[0m\n\u001b[0;32m----> 9\u001b[0;31m \u001b[0;32mimport\u001b[0m \u001b[0mtrt_pose\u001b[0m\u001b[0;34m.\u001b[0m\u001b[0mplugins\u001b[0m\u001b[0;34m\u001b[0m\u001b[0;34m\u001b[0m\u001b[0m\n\u001b[0m\u001b[1;32m     10\u001b[0m \u001b[0;32mimport\u001b[0m \u001b[0mglob\u001b[0m\u001b[0;34m\u001b[0m\u001b[0;34m\u001b[0m\u001b[0m\n\u001b[1;32m     11\u001b[0m \u001b[0;32mimport\u001b[0m \u001b[0mtorchvision\u001b[0m\u001b[0;34m.\u001b[0m\u001b[0mtransforms\u001b[0m\u001b[0;34m.\u001b[0m\u001b[0mfunctional\u001b[0m \u001b[0;32mas\u001b[0m \u001b[0mFT\u001b[0m\u001b[0;34m\u001b[0m\u001b[0;34m\u001b[0m\u001b[0m\n",
            "\u001b[0;31mModuleNotFoundError\u001b[0m: No module named 'trt_pose.plugins'",
            "",
            "\u001b[0;31m---------------------------------------------------------------------------\u001b[0;32m\nNOTE: If your import is failing due to a missing package, you can\nmanually install dependencies using either !pip or !apt.\n\nTo view examples of installing some common dependencies, click the\n\"Open Examples\" button below.\n\u001b[0;31m---------------------------------------------------------------------------\u001b[0m\n"
          ]
        }
      ]
    },
    {
      "cell_type": "code",
      "metadata": {
        "id": "wWtt-59XHXqW",
        "colab_type": "code",
        "colab": {}
      },
      "source": [
        "\n",
        "import trt_pose.trt_pose.models"
      ],
      "execution_count": 0,
      "outputs": []
    },
    {
      "cell_type": "code",
      "metadata": {
        "id": "ECqhx9-THjzQ",
        "colab_type": "code",
        "colab": {}
      },
      "source": [
        ""
      ],
      "execution_count": 0,
      "outputs": []
    }
  ]
}