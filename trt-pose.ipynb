{
  "nbformat": 4,
  "nbformat_minor": 0,
  "metadata": {
    "colab": {
      "name": "Untitled2.ipynb",
      "provenance": [],
      "private_outputs": true,
      "collapsed_sections": [],
      "toc_visible": true,
      "authorship_tag": "ABX9TyMCBveniczTkRbR2e9hC3ao",
      "include_colab_link": true
    },
    "kernelspec": {
      "name": "python3",
      "display_name": "Python 3"
    },
    "accelerator": "GPU"
  },
  "cells": [
    {
      "cell_type": "markdown",
      "metadata": {
        "id": "view-in-github",
        "colab_type": "text"
      },
      "source": [
        "<a href=\"https://colab.research.google.com/github/hfnvbh/colab-trt-pose/blob/master/trt-pose.ipynb\" target=\"_parent\"><img src=\"https://colab.research.google.com/assets/colab-badge.svg\" alt=\"Open In Colab\"/></a>"
      ]
    },
    {
      "cell_type": "markdown",
      "metadata": {
        "id": "1B1ZkqYIXd3w",
        "colab_type": "text"
      },
      "source": [
        "#Pose detection demo with trt-pose\n",
        "This notebook  based on [NVIDIA-AI-IOT/trt_pose](https://github.com/NVIDIA-AI-IOT/trt_pose) project and uses its [live demo](https://github.com/NVIDIA-AI-IOT/trt_pose/blob/master/tasks/human_pose/live_demo.ipynb) adapted to work with youtube videos in Google Colab.\n"
      ]
    },
    {
      "cell_type": "markdown",
      "metadata": {
        "id": "BtAVVpAfZVCa",
        "colab_type": "text"
      },
      "source": [
        "##Install TensorRT\n",
        "Since Nvidia give access only for registered users, please visit [TensorRT home page](https://developer.nvidia.com/tensorrt) and download .deb package by yourself. Upload it to some cloud drive and paste link to .deb package into next cell. Also check installation instructions at TensorRT download page, fix filenames used in dpkg and apt-key command if needed.\n",
        "\n",
        "Please notice that this notebook using specific version of TensorRT. It's needed TensorRT 5 .deb package for Cuda 10.1 and Ubuntu 18.04."
      ]
    },
    {
      "cell_type": "code",
      "metadata": {
        "id": "-7gsCZ9FZS1U",
        "colab_type": "code",
        "colab": {}
      },
      "source": [
        "tensorRTlink=\"https://www.dropbox.com/s/p0sfni1dzb359hk/nv-tensorrt-repo-ubuntu1804-cuda10.1-trt5.1.5.0-ga-20190427_1-1_amd64.deb\""
      ],
      "execution_count": 0,
      "outputs": []
    },
    {
      "cell_type": "code",
      "metadata": {
        "id": "vietKAudNq4I",
        "colab_type": "code",
        "colab": {}
      },
      "source": [
        "import os\n",
        "os.system('wget %s' %tensorRTlink)\n",
        "\n",
        "!dpkg -i nv-tensorrt-repo-ubuntu1804-cuda10.1-trt5.1.5.0-ga-20190427_1-1_amd64.deb\n",
        "!apt-key add /var/nv-tensorrt-repo-cuda10.1-trt5.1.5.0-ga-20190427/7fa2af80.pub"
      ],
      "execution_count": 0,
      "outputs": []
    },
    {
      "cell_type": "markdown",
      "metadata": {
        "id": "hshtEAMrdYBI",
        "colab_type": "text"
      },
      "source": [
        "Install specific versions of packages to avoid dependency issues with and then install TensorRT"
      ]
    },
    {
      "cell_type": "code",
      "metadata": {
        "id": "59orDnOrQf-U",
        "colab_type": "code",
        "colab": {}
      },
      "source": [
        "!apt-get install -y --no-install-recommends libnvinfer5=5.1.5-1+cuda10.1 libnvinfer-dev=5.1.5-1+cuda10.1\n",
        "!apt-get install -y --no-install-recommends python3-libnvinfer=5.1.5-1+cuda10.1 python3-libnvinfer-dev=5.1.5-1+cuda10.1\n",
        "!apt-get update\n",
        "!apt-get install tensorrt"
      ],
      "execution_count": 0,
      "outputs": []
    },
    {
      "cell_type": "markdown",
      "metadata": {
        "id": "CF1C8BSZedbv",
        "colab_type": "text"
      },
      "source": [
        "Check installation results.\n",
        "Expexted output (for TensorRT 5.1.5):\n",
        "\n",
        "||||||\n",
        "|-|-|-|-|-|\n",
        "| ii | libnvinfer-dev | 5.1.5-1+cuda10.1 | amd64 | TensorRT development libraries and headers |\n",
        "| ii | libnvinfer-samples | 5.1.5-1+cuda10.1 | all | TensorRT samples and documentation |\n",
        "| ii | libnvinfer5 | 5.1.5-1+cuda10.1 | amd64 | TensorRT runtime libraries |\n",
        "| ii | python3-libnvinfer | 5.1.5-1+cuda10.1 | amd64 | Python 3 bindings for TensorRT |\n",
        "| ii | python3-libnvinfer-dev | 5.1.5-1+cuda10.1 | amd64 | Python 3 development package for TensorRT |\n",
        "| ii | tensorrt | 5.1.5.0-1+cuda10.1 | amd64 | Meta package of TensorRT |"
      ]
    },
    {
      "cell_type": "code",
      "metadata": {
        "id": "-d63B485SVXL",
        "colab_type": "code",
        "colab": {}
      },
      "source": [
        "!dpkg -l | grep TensorRT"
      ],
      "execution_count": 0,
      "outputs": []
    },
    {
      "cell_type": "markdown",
      "metadata": {
        "id": "KmH3wAA9fk5M",
        "colab_type": "text"
      },
      "source": [
        "## Clone needed repos\n",
        "You need [torch2trt](https://github.com/NVIDIA-AI-IOT/torch2trt), [trt_pose](https://github.com/NVIDIA-AI-IOT/trt_pose) itself and scripts from [colab-trt-pose](https://github.com/hfnvbh/colab-trt-pose)"
      ]
    },
    {
      "cell_type": "code",
      "metadata": {
        "id": "bKboYt11UfXS",
        "colab_type": "code",
        "colab": {}
      },
      "source": [
        "!apt-get install libprotobuf* protobuf-compiler ninja-build\n",
        "!git clone https://github.com/NVIDIA-AI-IOT/torch2trt\n",
        "!cd torch2trt && python setup.py install --plugins"
      ],
      "execution_count": 0,
      "outputs": []
    },
    {
      "cell_type": "code",
      "metadata": {
        "id": "o4kVvs3GSiAX",
        "colab_type": "code",
        "colab": {}
      },
      "source": [
        "!pip3 install tqdm cython pycocotools\n",
        "!apt-get install python3-matplotlib\n",
        "!git clone https://github.com/NVIDIA-AI-IOT/trt_pose\n",
        "!cd trt_pose && python3 setup.py install"
      ],
      "execution_count": 0,
      "outputs": []
    },
    {
      "cell_type": "code",
      "metadata": {
        "id": "ZBMkIDfR7HPH",
        "colab_type": "code",
        "colab": {}
      },
      "source": [
        "!git clone https://github.com/hfnvbh/colab-trt-pose"
      ],
      "execution_count": 0,
      "outputs": []
    },
    {
      "cell_type": "markdown",
      "metadata": {
        "id": "6e0XmNDOgp-4",
        "colab_type": "text"
      },
      "source": [
        "Also download weigths for [resnet](https://drive.google.com/open?id=1XYDdCUdiF2xxx4rznmLb62SdOUZuoNbd) used in trt-pose."
      ]
    },
    {
      "cell_type": "code",
      "metadata": {
        "id": "fnVDrgH_VCcK",
        "colab_type": "code",
        "colab": {}
      },
      "source": [
        "!wget -q --no-check-certificate 'https://docs.google.com/uc?export=download&id=1XYDdCUdiF2xxx4rznmLb62SdOUZuoNbd' -O 'resnet18_baseline_att_224x224_A_epoch_249.pth'"
      ],
      "execution_count": 0,
      "outputs": []
    },
    {
      "cell_type": "markdown",
      "metadata": {
        "id": "gNR7bysdisfz",
        "colab_type": "text"
      },
      "source": [
        "Copy JSON file which describes the human pose task to working directory."
      ]
    },
    {
      "cell_type": "code",
      "metadata": {
        "id": "nIoZ3D_1VOOp",
        "colab_type": "code",
        "colab": {}
      },
      "source": [
        "!cp trt_pose/tasks/human_pose/human_pose.json ."
      ],
      "execution_count": 0,
      "outputs": []
    },
    {
      "cell_type": "markdown",
      "metadata": {
        "id": "pLLUsnctlazd",
        "colab_type": "text"
      },
      "source": [
        "Convert model to trt."
      ]
    },
    {
      "cell_type": "code",
      "metadata": {
        "id": "moJhr5-XjqEy",
        "colab_type": "code",
        "colab": {}
      },
      "source": [
        "!python colab-trt-pose/convert_model_to_trt.py"
      ],
      "execution_count": 0,
      "outputs": []
    },
    {
      "cell_type": "markdown",
      "metadata": {
        "id": "AdIzZHHSiO6A",
        "colab_type": "text"
      },
      "source": [
        "## Install packages for work with youtube videos"
      ]
    },
    {
      "cell_type": "code",
      "metadata": {
        "id": "4qU_tnty795A",
        "colab_type": "code",
        "colab": {}
      },
      "source": [
        "!pip install -q youtube-dl visdom\n",
        "from IPython.display import YouTubeVideo"
      ],
      "execution_count": 0,
      "outputs": []
    },
    {
      "cell_type": "markdown",
      "metadata": {
        "id": "IsyWyWz7jHFK",
        "colab_type": "text"
      },
      "source": [
        "##Run example "
      ]
    },
    {
      "cell_type": "code",
      "metadata": {
        "id": "RqwpWqz2VQ7h",
        "colab_type": "code",
        "colab": {}
      },
      "source": [
        "YOUTUBE_ID = 'RXABo9hm8B8'\n",
        "YouTubeVideo(YOUTUBE_ID)"
      ],
      "execution_count": 0,
      "outputs": []
    },
    {
      "cell_type": "code",
      "metadata": {
        "id": "0fSh9Bsieyxp",
        "colab_type": "code",
        "colab": {}
      },
      "source": [
        "!rm -df youtube.mp4\n",
        "!youtube-dl -f 'bestvideo[ext=mp4]' --output \"youtube.%(ext)s\" https://www.youtube.com/watch?v=$YOUTUBE_ID"
      ],
      "execution_count": 0,
      "outputs": []
    },
    {
      "cell_type": "markdown",
      "metadata": {
        "id": "lliOKE9glAWh",
        "colab_type": "text"
      },
      "source": [
        "Cut and run demo only on first 5 seconds."
      ]
    },
    {
      "cell_type": "code",
      "metadata": {
        "id": "ld4Upd5Thjru",
        "colab_type": "code",
        "colab": {}
      },
      "source": [
        "!ffmpeg -y -loglevel error -i youtube.mp4 -t 5 video.mp4"
      ],
      "execution_count": 0,
      "outputs": []
    },
    {
      "cell_type": "markdown",
      "metadata": {
        "id": "i-ACkxBpRrVS",
        "colab_type": "text"
      },
      "source": [
        "Run script with processing video."
      ]
    },
    {
      "cell_type": "code",
      "metadata": {
        "id": "BIZKLflB9EDj",
        "colab_type": "code",
        "colab": {}
      },
      "source": [
        "!python colab-trt-pose/process_video_trt_pose.py video.mp4"
      ],
      "execution_count": 0,
      "outputs": []
    },
    {
      "cell_type": "markdown",
      "metadata": {
        "id": "lBW3VUV9QFE-",
        "colab_type": "text"
      },
      "source": [
        "Output video has .avi fromat, so convert it back to .mp4"
      ]
    },
    {
      "cell_type": "code",
      "metadata": {
        "id": "d453wXwsyImu",
        "colab_type": "code",
        "colab": {}
      },
      "source": [
        "!ffmpeg -y -loglevel error -i output.avi output.mp4 "
      ],
      "execution_count": 0,
      "outputs": []
    },
    {
      "cell_type": "code",
      "metadata": {
        "id": "sP4m8d6P1mfE",
        "colab_type": "code",
        "colab": {}
      },
      "source": [
        "def show_local_mp4_video(file_name, width=640, height=480):\n",
        "  import io\n",
        "  import base64\n",
        "  from IPython.display import HTML\n",
        "  video_encoded = base64.b64encode(io.open(file_name, 'rb').read())\n",
        "  return HTML(data='''<video width=\"{0}\" height=\"{1}\" alt=\"test\" controls>\n",
        "                        <source src=\"data:video/mp4;base64,{2}\" type=\"video/mp4\" />\n",
        "                      </video>'''.format(width, height, video_encoded.decode('ascii')))\n",
        "\n",
        "show_local_mp4_video('output.mp4')"
      ],
      "execution_count": 0,
      "outputs": []
    }
  ]
}